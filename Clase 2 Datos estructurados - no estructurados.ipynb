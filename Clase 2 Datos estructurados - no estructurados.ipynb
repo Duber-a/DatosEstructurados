{
 "cells": [
  {
   "cell_type": "code",
   "execution_count": 1,
   "metadata": {},
   "outputs": [],
   "source": [
    "import os\n",
    "import numpy as np\n",
    "import pandas as pd\n",
    "import scipy.stats as st\n"
   ]
  },
  {
   "cell_type": "code",
   "execution_count": 2,
   "metadata": {},
   "outputs": [],
   "source": [
    "os.chdir(r'C:\\Users\\Home\\Documents\\Laboral2020\\Konrad Lorenz\\Datos Estructurados y No estructurados\\clase2\\datos')"
   ]
  },
  {
   "cell_type": "code",
   "execution_count": 3,
   "metadata": {},
   "outputs": [
    {
     "data": {
      "text/plain": [
       "['variables_adicionales_hogar_v3.txt']"
      ]
     },
     "execution_count": 3,
     "metadata": {},
     "output_type": "execute_result"
    }
   ],
   "source": [
    "os.listdir()"
   ]
  },
  {
   "cell_type": "code",
   "execution_count": 4,
   "metadata": {
    "scrolled": true
   },
   "outputs": [
    {
     "data": {
      "text/plain": [
       "Index(['DIRECTORIO', 'FEX_C', 'DIRECTORIO_HOG', 'DIRECTORIO_PER',\n",
       "       'PUNTAJE_PISOS', 'PUNTAJE_PAREDES', 'PUNTAJE_SANITARIO',\n",
       "       'PUNTAJE_BASURAS', 'PUNTAJE_AGUA', 'PUNTAJE_COMBUSTIBLE',\n",
       "       'PUNTAJE_HACINAMIENTO', 'PUNTAJE_EDUC_JEFE', 'PUNTAJE_PROM_12',\n",
       "       'PUNTAJE_ASIS_5_11', 'PUNTAJE_ASIS_12_18', 'PUNTAJE_NIñOS_SEIS',\n",
       "       'TOTAL_PUNTAJE', 'INGRESOS_HOG', 'INGRESOS_PER_CAPITA', 'HOGAR_LP',\n",
       "       'HOGAR_LE', 'ESTRATO_VIV', 'PER_UG', 'IPM_BAJO_LOGRO_ED',\n",
       "       'IPM_ANALFABET', 'IPM_INASISTENCIA_ESC', 'IPM_REZAGO_ESC', 'IPM_PI',\n",
       "       'IPM_TRABAJO_INFANTIL', 'IPM_ASEG_SALUD', 'IPM_ACCESO_SALUD',\n",
       "       'IPM_DESEMPLEO_LP', 'IPM_EMPLEO_FORMAL', 'IPM_AGUA', 'IPM_SAN_BASICO',\n",
       "       'IPM_PISOS', 'IPM_PAREDES', 'IPM_HACINAMIENTO', 'IPM',\n",
       "       'HOGAR_POBRE_IPM'],\n",
       "      dtype='object')"
      ]
     },
     "execution_count": 4,
     "metadata": {},
     "output_type": "execute_result"
    }
   ],
   "source": [
    "data = pd.read_csv('variables_adicionales_hogar_v3.txt', sep = \";\")\n",
    "data.columns"
   ]
  },
  {
   "cell_type": "code",
   "execution_count": 5,
   "metadata": {},
   "outputs": [
    {
     "name": "stdout",
     "output_type": "stream",
     "text": [
      "<class 'pandas.core.frame.DataFrame'>\n",
      "RangeIndex: 109111 entries, 0 to 109110\n",
      "Data columns (total 40 columns):\n",
      "DIRECTORIO              109111 non-null int64\n",
      "FEX_C                   109111 non-null float64\n",
      "DIRECTORIO_HOG          109111 non-null int64\n",
      "DIRECTORIO_PER          109111 non-null int64\n",
      "PUNTAJE_PISOS           109111 non-null float64\n",
      "PUNTAJE_PAREDES         109111 non-null float64\n",
      "PUNTAJE_SANITARIO       109111 non-null float64\n",
      "PUNTAJE_BASURAS         109111 non-null float64\n",
      "PUNTAJE_AGUA            109111 non-null float64\n",
      "PUNTAJE_COMBUSTIBLE     109111 non-null float64\n",
      "PUNTAJE_HACINAMIENTO    109111 non-null float64\n",
      "PUNTAJE_EDUC_JEFE       109111 non-null float64\n",
      "PUNTAJE_PROM_12         109111 non-null float64\n",
      "PUNTAJE_ASIS_5_11       109111 non-null float64\n",
      "PUNTAJE_ASIS_12_18      109111 non-null float64\n",
      "PUNTAJE_NIñOS_SEIS      109111 non-null float64\n",
      "TOTAL_PUNTAJE           109111 non-null float64\n",
      "INGRESOS_HOG            109111 non-null float64\n",
      "INGRESOS_PER_CAPITA     109111 non-null float64\n",
      "HOGAR_LP                109111 non-null int64\n",
      "HOGAR_LE                109111 non-null int64\n",
      "ESTRATO_VIV             109111 non-null int64\n",
      "PER_UG                  109111 non-null int64\n",
      "IPM_BAJO_LOGRO_ED       109111 non-null int64\n",
      "IPM_ANALFABET           109111 non-null int64\n",
      "IPM_INASISTENCIA_ESC    109111 non-null int64\n",
      "IPM_REZAGO_ESC          109111 non-null int64\n",
      "IPM_PI                  109111 non-null int64\n",
      "IPM_TRABAJO_INFANTIL    109111 non-null int64\n",
      "IPM_ASEG_SALUD          109111 non-null int64\n",
      "IPM_ACCESO_SALUD        109111 non-null int64\n",
      "IPM_DESEMPLEO_LP        109111 non-null int64\n",
      "IPM_EMPLEO_FORMAL       109111 non-null int64\n",
      "IPM_AGUA                109111 non-null int64\n",
      "IPM_SAN_BASICO          109111 non-null int64\n",
      "IPM_PISOS               109111 non-null int64\n",
      "IPM_PAREDES             109111 non-null int64\n",
      "IPM_HACINAMIENTO        109111 non-null int64\n",
      "IPM                     109111 non-null float64\n",
      "HOGAR_POBRE_IPM         109111 non-null int64\n",
      "dtypes: float64(17), int64(23)\n",
      "memory usage: 33.3 MB\n"
     ]
    }
   ],
   "source": [
    "data.info()"
   ]
  },
  {
   "cell_type": "markdown",
   "metadata": {},
   "source": [
    "# Recodificación de variables"
   ]
  },
  {
   "cell_type": "code",
   "execution_count": 6,
   "metadata": {},
   "outputs": [
    {
     "data": {
      "text/plain": [
       "2    45629\n",
       "3    35886\n",
       "4    13071\n",
       "1    10570\n",
       "5     2630\n",
       "6     1325\n",
       "Name: ESTRATO_VIV, dtype: int64"
      ]
     },
     "execution_count": 6,
     "metadata": {},
     "output_type": "execute_result"
    }
   ],
   "source": [
    " data['ESTRATO_VIV'].value_counts()"
   ]
  },
  {
   "cell_type": "code",
   "execution_count": 7,
   "metadata": {},
   "outputs": [],
   "source": [
    "data['ESTRATO_VIV'].replace({1: 'Bajo', 2: 'Bajo', 3: 'Medio', 4: 'Medio', 5: 'Alto', 6: 'Alto'}, inplace=True)"
   ]
  },
  {
   "cell_type": "code",
   "execution_count": 8,
   "metadata": {},
   "outputs": [
    {
     "data": {
      "text/plain": [
       "Bajo     56199\n",
       "Medio    48957\n",
       "Alto      3955\n",
       "Name: ESTRATO_VIV, dtype: int64"
      ]
     },
     "execution_count": 8,
     "metadata": {},
     "output_type": "execute_result"
    }
   ],
   "source": [
    " data['ESTRATO_VIV'].value_counts()"
   ]
  },
  {
   "cell_type": "markdown",
   "metadata": {},
   "source": [
    "No es recomendable recodificar en la misma variable, en su lugar es preferible crear una nueva variable"
   ]
  },
  {
   "cell_type": "code",
   "execution_count": 9,
   "metadata": {},
   "outputs": [
    {
     "data": {
      "text/plain": [
       "Bajo     56199\n",
       "Medio    48957\n",
       "Alto      3955\n",
       "Name: ESTRATO_VIV_R, dtype: int64"
      ]
     },
     "execution_count": 9,
     "metadata": {},
     "output_type": "execute_result"
    }
   ],
   "source": [
    "data = pd.read_csv('variables_adicionales_hogar_v3.txt', sep = \";\")\n",
    "data['ESTRATO_VIV_R'] = data['ESTRATO_VIV'].replace({1: 'Bajo', 2: 'Bajo', 3: 'Medio', 4: 'Medio', 5: 'Alto', 6: 'Alto'})\n",
    "data['ESTRATO_VIV_R'].value_counts()"
   ]
  },
  {
   "cell_type": "markdown",
   "metadata": {},
   "source": [
    "Otra forma de hacer la recodificación que puede ser más conveniente es utilizando listas:"
   ]
  },
  {
   "cell_type": "code",
   "execution_count": 10,
   "metadata": {},
   "outputs": [],
   "source": [
    "data.drop(columns = ['ESTRATO_VIV_R'], inplace = True)\n"
   ]
  },
  {
   "cell_type": "code",
   "execution_count": 11,
   "metadata": {},
   "outputs": [],
   "source": [
    "data[\"ESTRATO_VIV_R\"] = data[\"ESTRATO_VIV\"].replace(list(np.arange(1,7)), ['Bajo','Bajo','Medio','Medio','Alto','Alto'])\n"
   ]
  },
  {
   "cell_type": "code",
   "execution_count": 12,
   "metadata": {},
   "outputs": [
    {
     "data": {
      "text/plain": [
       "Bajo     56199\n",
       "Medio    48957\n",
       "Alto      3955\n",
       "Name: ESTRATO_VIV_R, dtype: int64"
      ]
     },
     "execution_count": 12,
     "metadata": {},
     "output_type": "execute_result"
    }
   ],
   "source": [
    "\n",
    "data[\"ESTRATO_VIV_R\"].value_counts()"
   ]
  },
  {
   "cell_type": "markdown",
   "metadata": {},
   "source": [
    "También se pude recodificar variables de tipo continuo, por ejemplo construir los cuartiles del ingreso percapita:"
   ]
  },
  {
   "cell_type": "code",
   "execution_count": 13,
   "metadata": {},
   "outputs": [
    {
     "data": {
      "text/plain": [
       "[0.0, 387841.735, 737700.0, 1456666.6, 300400000.0]"
      ]
     },
     "execution_count": 13,
     "metadata": {},
     "output_type": "execute_result"
    }
   ],
   "source": [
    "ls_percentiles = list(data['INGRESOS_PER_CAPITA'].quantile([0, .25, .5, .75, 1])) \n",
    "ls_percentiles"
   ]
  },
  {
   "cell_type": "code",
   "execution_count": 14,
   "metadata": {},
   "outputs": [
    {
     "data": {
      "text/plain": [
       "[0.0, 387841.735, 737700.0, 1456666.6, 300400000.0]"
      ]
     },
     "execution_count": 14,
     "metadata": {},
     "output_type": "execute_result"
    }
   ],
   "source": [
    "ls_percentiles"
   ]
  },
  {
   "cell_type": "code",
   "execution_count": 15,
   "metadata": {},
   "outputs": [],
   "source": [
    "data['cuartiles_ingreso'] = pd.cut(data['INGRESOS_PER_CAPITA'],  bins=ls_percentiles)"
   ]
  },
  {
   "cell_type": "code",
   "execution_count": 16,
   "metadata": {},
   "outputs": [
    {
     "data": {
      "text/plain": [
       "(387841.735, 737700.0]      27286\n",
       "(1456666.6, 300400000.0]    27276\n",
       "(737700.0, 1456666.6]       27271\n",
       "(0.0, 387841.735]           23496\n",
       "Name: cuartiles_ingreso, dtype: int64"
      ]
     },
     "execution_count": 16,
     "metadata": {},
     "output_type": "execute_result"
    }
   ],
   "source": [
    "data['cuartiles_ingreso'].value_counts() "
   ]
  },
  {
   "cell_type": "code",
   "execution_count": 17,
   "metadata": {},
   "outputs": [
    {
     "data": {
      "text/plain": [
       "[1456666.6, 300400000.0)    27280\n",
       "[0.0, 387841.735)           27278\n",
       "[737700.0, 1456666.6)       27277\n",
       "[387841.735, 737700.0)      27275\n",
       "Name: cuartiles_ingreso, dtype: int64"
      ]
     },
     "execution_count": 17,
     "metadata": {},
     "output_type": "execute_result"
    }
   ],
   "source": [
    "data['cuartiles_ingreso'] = pd.cut(data['INGRESOS_PER_CAPITA'],  bins=ls_percentiles, right=False, include_lowest = True)\n",
    "data['cuartiles_ingreso'].value_counts() "
   ]
  },
  {
   "cell_type": "code",
   "execution_count": 18,
   "metadata": {},
   "outputs": [
    {
     "data": {
      "text/plain": [
       "[1456666.6, 300400001.0)    27281\n",
       "[0.0, 387841.735)           27278\n",
       "[737700.0, 1456666.6)       27277\n",
       "[387841.735, 737700.0)      27275\n",
       "Name: cuartiles_ingreso, dtype: int64"
      ]
     },
     "execution_count": 18,
     "metadata": {},
     "output_type": "execute_result"
    }
   ],
   "source": [
    "ls_percentiles = list(data['INGRESOS_PER_CAPITA'].quantile([0, .25, .5, .75, 1])) \n",
    "ls_percentiles[4]=ls_percentiles[4]+1 \n",
    "data['cuartiles_ingreso'] = pd.cut(data['INGRESOS_PER_CAPITA'],  bins=ls_percentiles,  right=False, include_lowest = True)\n",
    "data['cuartiles_ingreso'].value_counts() "
   ]
  },
  {
   "cell_type": "code",
   "execution_count": 19,
   "metadata": {},
   "outputs": [
    {
     "data": {
      "text/plain": [
       "4    27281\n",
       "1    27278\n",
       "3    27277\n",
       "2    27275\n",
       "Name: cuartiles_ingreso, dtype: int64"
      ]
     },
     "execution_count": 19,
     "metadata": {},
     "output_type": "execute_result"
    }
   ],
   "source": [
    "data['cuartiles_ingreso'] = pd.cut(data['INGRESOS_PER_CAPITA'],  bins=ls_percentiles,  right=False, labels = [1, 2, 3, 4], include_lowest = True)\n",
    "data['cuartiles_ingreso'].value_counts() "
   ]
  },
  {
   "cell_type": "code",
   "execution_count": 20,
   "metadata": {},
   "outputs": [
    {
     "data": {
      "text/plain": [
       "1    27278\n",
       "2    27275\n",
       "3    27277\n",
       "4    27281\n",
       "Name: cuartiles_ingreso, dtype: int64"
      ]
     },
     "execution_count": 20,
     "metadata": {},
     "output_type": "execute_result"
    }
   ],
   "source": [
    "data['cuartiles_ingreso'].value_counts().sort_index() "
   ]
  },
  {
   "cell_type": "code",
   "execution_count": 21,
   "metadata": {},
   "outputs": [
    {
     "data": {
      "text/plain": [
       "INGRESOS_HOG           1.296430\n",
       "INGRESOS_PER_CAPITA    1.621271\n",
       "dtype: float64"
      ]
     },
     "execution_count": 21,
     "metadata": {},
     "output_type": "execute_result"
    }
   ],
   "source": [
    "def cv(x):\n",
    "    return np.std(x) / np.mean(x)\n",
    "\n",
    "data[['INGRESOS_HOG','INGRESOS_PER_CAPITA']].apply(cv)"
   ]
  },
  {
   "cell_type": "markdown",
   "metadata": {},
   "source": [
    "# Agregaciones y agrupación"
   ]
  },
  {
   "cell_type": "code",
   "execution_count": 22,
   "metadata": {},
   "outputs": [
    {
     "data": {
      "text/html": [
       "<div>\n",
       "<style scoped>\n",
       "    .dataframe tbody tr th:only-of-type {\n",
       "        vertical-align: middle;\n",
       "    }\n",
       "\n",
       "    .dataframe tbody tr th {\n",
       "        vertical-align: top;\n",
       "    }\n",
       "\n",
       "    .dataframe thead th {\n",
       "        text-align: right;\n",
       "    }\n",
       "</style>\n",
       "<table border=\"1\" class=\"dataframe\">\n",
       "  <thead>\n",
       "    <tr style=\"text-align: right;\">\n",
       "      <th></th>\n",
       "      <th>v1</th>\n",
       "      <th>v2</th>\n",
       "      <th>grupo1</th>\n",
       "      <th>grupo2</th>\n",
       "    </tr>\n",
       "  </thead>\n",
       "  <tbody>\n",
       "    <tr>\n",
       "      <th>0</th>\n",
       "      <td>1.0</td>\n",
       "      <td>11.0</td>\n",
       "      <td>red</td>\n",
       "      <td>wet</td>\n",
       "    </tr>\n",
       "    <tr>\n",
       "      <th>1</th>\n",
       "      <td>3.0</td>\n",
       "      <td>33.0</td>\n",
       "      <td>blue</td>\n",
       "      <td>dry</td>\n",
       "    </tr>\n",
       "    <tr>\n",
       "      <th>2</th>\n",
       "      <td>5.0</td>\n",
       "      <td>55.0</td>\n",
       "      <td>1</td>\n",
       "      <td>99</td>\n",
       "    </tr>\n",
       "    <tr>\n",
       "      <th>3</th>\n",
       "      <td>7.0</td>\n",
       "      <td>77.0</td>\n",
       "      <td>2</td>\n",
       "      <td>95</td>\n",
       "    </tr>\n",
       "    <tr>\n",
       "      <th>4</th>\n",
       "      <td>8.0</td>\n",
       "      <td>88.0</td>\n",
       "      <td>NaN</td>\n",
       "      <td>NaN</td>\n",
       "    </tr>\n",
       "    <tr>\n",
       "      <th>5</th>\n",
       "      <td>3.0</td>\n",
       "      <td>33.0</td>\n",
       "      <td>big</td>\n",
       "      <td>damp</td>\n",
       "    </tr>\n",
       "    <tr>\n",
       "      <th>6</th>\n",
       "      <td>5.0</td>\n",
       "      <td>55.0</td>\n",
       "      <td>1</td>\n",
       "      <td>95</td>\n",
       "    </tr>\n",
       "    <tr>\n",
       "      <th>7</th>\n",
       "      <td>NaN</td>\n",
       "      <td>NaN</td>\n",
       "      <td>2</td>\n",
       "      <td>99</td>\n",
       "    </tr>\n",
       "    <tr>\n",
       "      <th>8</th>\n",
       "      <td>4.0</td>\n",
       "      <td>44.0</td>\n",
       "      <td>red</td>\n",
       "      <td>red</td>\n",
       "    </tr>\n",
       "    <tr>\n",
       "      <th>9</th>\n",
       "      <td>5.0</td>\n",
       "      <td>55.0</td>\n",
       "      <td>1</td>\n",
       "      <td>99</td>\n",
       "    </tr>\n",
       "    <tr>\n",
       "      <th>10</th>\n",
       "      <td>7.0</td>\n",
       "      <td>77.0</td>\n",
       "      <td>NaN</td>\n",
       "      <td>NaN</td>\n",
       "    </tr>\n",
       "    <tr>\n",
       "      <th>11</th>\n",
       "      <td>9.0</td>\n",
       "      <td>99.0</td>\n",
       "      <td>12</td>\n",
       "      <td>NaN</td>\n",
       "    </tr>\n",
       "  </tbody>\n",
       "</table>\n",
       "</div>"
      ],
      "text/plain": [
       "     v1    v2 grupo1 grupo2\n",
       "0   1.0  11.0    red    wet\n",
       "1   3.0  33.0   blue    dry\n",
       "2   5.0  55.0      1     99\n",
       "3   7.0  77.0      2     95\n",
       "4   8.0  88.0    NaN    NaN\n",
       "5   3.0  33.0    big   damp\n",
       "6   5.0  55.0      1     95\n",
       "7   NaN   NaN      2     99\n",
       "8   4.0  44.0    red    red\n",
       "9   5.0  55.0      1     99\n",
       "10  7.0  77.0    NaN    NaN\n",
       "11  9.0  99.0     12    NaN"
      ]
     },
     "execution_count": 22,
     "metadata": {},
     "output_type": "execute_result"
    }
   ],
   "source": [
    "df = pd.DataFrame(\n",
    "{'v1': [1, 3, 5, 7, 8, 3, 5, np.nan, 4, 5, 7, 9],\n",
    " 'v2': [11, 33, 55, 77, 88, 33, 55, np.nan, 44, 55, 77, 99],\n",
    " 'grupo1': [\"red\", \"blue\", 1, 2, np.nan, \"big\", 1, 2, \"red\", 1, np.nan, 12],\n",
    " 'grupo2': [\"wet\", \"dry\", 99, 95, np.nan, \"damp\", 95, 99, \"red\", 99, np.nan,\n",
    "                 np.nan]})\n",
    "df"
   ]
  },
  {
   "cell_type": "code",
   "execution_count": 23,
   "metadata": {},
   "outputs": [
    {
     "data": {
      "text/html": [
       "<div>\n",
       "<style scoped>\n",
       "    .dataframe tbody tr th:only-of-type {\n",
       "        vertical-align: middle;\n",
       "    }\n",
       "\n",
       "    .dataframe tbody tr th {\n",
       "        vertical-align: top;\n",
       "    }\n",
       "\n",
       "    .dataframe thead th {\n",
       "        text-align: right;\n",
       "    }\n",
       "</style>\n",
       "<table border=\"1\" class=\"dataframe\">\n",
       "  <thead>\n",
       "    <tr style=\"text-align: right;\">\n",
       "      <th></th>\n",
       "      <th>grupo1</th>\n",
       "      <th>grupo2</th>\n",
       "      <th>v1</th>\n",
       "      <th>v2</th>\n",
       "    </tr>\n",
       "  </thead>\n",
       "  <tbody>\n",
       "    <tr>\n",
       "      <th>0</th>\n",
       "      <td>1</td>\n",
       "      <td>95</td>\n",
       "      <td>5.0</td>\n",
       "      <td>55.0</td>\n",
       "    </tr>\n",
       "    <tr>\n",
       "      <th>1</th>\n",
       "      <td>1</td>\n",
       "      <td>99</td>\n",
       "      <td>5.0</td>\n",
       "      <td>55.0</td>\n",
       "    </tr>\n",
       "    <tr>\n",
       "      <th>2</th>\n",
       "      <td>2</td>\n",
       "      <td>95</td>\n",
       "      <td>7.0</td>\n",
       "      <td>77.0</td>\n",
       "    </tr>\n",
       "    <tr>\n",
       "      <th>3</th>\n",
       "      <td>2</td>\n",
       "      <td>99</td>\n",
       "      <td>NaN</td>\n",
       "      <td>NaN</td>\n",
       "    </tr>\n",
       "    <tr>\n",
       "      <th>4</th>\n",
       "      <td>big</td>\n",
       "      <td>damp</td>\n",
       "      <td>3.0</td>\n",
       "      <td>33.0</td>\n",
       "    </tr>\n",
       "    <tr>\n",
       "      <th>5</th>\n",
       "      <td>blue</td>\n",
       "      <td>dry</td>\n",
       "      <td>3.0</td>\n",
       "      <td>33.0</td>\n",
       "    </tr>\n",
       "    <tr>\n",
       "      <th>6</th>\n",
       "      <td>red</td>\n",
       "      <td>red</td>\n",
       "      <td>4.0</td>\n",
       "      <td>44.0</td>\n",
       "    </tr>\n",
       "    <tr>\n",
       "      <th>7</th>\n",
       "      <td>red</td>\n",
       "      <td>wet</td>\n",
       "      <td>1.0</td>\n",
       "      <td>11.0</td>\n",
       "    </tr>\n",
       "  </tbody>\n",
       "</table>\n",
       "</div>"
      ],
      "text/plain": [
       "  grupo1 grupo2   v1    v2\n",
       "0      1     95  5.0  55.0\n",
       "1      1     99  5.0  55.0\n",
       "2      2     95  7.0  77.0\n",
       "3      2     99  NaN   NaN\n",
       "4    big   damp  3.0  33.0\n",
       "5   blue    dry  3.0  33.0\n",
       "6    red    red  4.0  44.0\n",
       "7    red    wet  1.0  11.0"
      ]
     },
     "execution_count": 23,
     "metadata": {},
     "output_type": "execute_result"
    }
   ],
   "source": [
    "df.groupby(['grupo1', 'grupo2'], as_index=False)[['v1', 'v2']].mean()  \n"
   ]
  },
  {
   "cell_type": "code",
   "execution_count": 24,
   "metadata": {},
   "outputs": [
    {
     "ename": "SyntaxError",
     "evalue": "invalid syntax (<ipython-input-24-045c73d8311e>, line 1)",
     "output_type": "error",
     "traceback": [
      "\u001b[1;36m  File \u001b[1;32m\"<ipython-input-24-045c73d8311e>\"\u001b[1;36m, line \u001b[1;32m1\u001b[0m\n\u001b[1;33m    En principio la función agg permite definer cualquier función de interés:\u001b[0m\n\u001b[1;37m               ^\u001b[0m\n\u001b[1;31mSyntaxError\u001b[0m\u001b[1;31m:\u001b[0m invalid syntax\n"
     ]
    }
   ],
   "source": [
    "En principio la función agg permite definer cualquier función de interés:"
   ]
  },
  {
   "cell_type": "code",
   "execution_count": 25,
   "metadata": {},
   "outputs": [
    {
     "data": {
      "text/plain": [
       "A\n",
       "1    2.5\n",
       "2    2.5\n",
       "Name: values, dtype: float64"
      ]
     },
     "execution_count": 25,
     "metadata": {},
     "output_type": "execute_result"
    }
   ],
   "source": [
    "df = pd.DataFrame({'A':[1,1,2,2],'B':[1,2,1,2],'values':np.arange(10,30,5)})\n",
    "df.groupby('A').agg(np.std, ddof=0)\n",
    "df.groupby('A')['values'].agg(np.std, ddof=0)"
   ]
  },
  {
   "cell_type": "markdown",
   "metadata": {},
   "source": [
    "Para estimar el coeficiente de variación del ingreso por ejemplo por estrato"
   ]
  },
  {
   "cell_type": "code",
   "execution_count": 26,
   "metadata": {},
   "outputs": [
    {
     "data": {
      "text/html": [
       "<div>\n",
       "<style scoped>\n",
       "    .dataframe tbody tr th:only-of-type {\n",
       "        vertical-align: middle;\n",
       "    }\n",
       "\n",
       "    .dataframe tbody tr th {\n",
       "        vertical-align: top;\n",
       "    }\n",
       "\n",
       "    .dataframe thead th {\n",
       "        text-align: right;\n",
       "    }\n",
       "</style>\n",
       "<table border=\"1\" class=\"dataframe\">\n",
       "  <thead>\n",
       "    <tr style=\"text-align: right;\">\n",
       "      <th></th>\n",
       "      <th>INGRESOS_HOG</th>\n",
       "      <th>INGRESOS_PER_CAPITA</th>\n",
       "    </tr>\n",
       "    <tr>\n",
       "      <th>ESTRATO_VIV</th>\n",
       "      <th></th>\n",
       "      <th></th>\n",
       "    </tr>\n",
       "  </thead>\n",
       "  <tbody>\n",
       "    <tr>\n",
       "      <th>1</th>\n",
       "      <td>1.006133</td>\n",
       "      <td>1.382481</td>\n",
       "    </tr>\n",
       "    <tr>\n",
       "      <th>2</th>\n",
       "      <td>1.162648</td>\n",
       "      <td>2.215280</td>\n",
       "    </tr>\n",
       "    <tr>\n",
       "      <th>3</th>\n",
       "      <td>0.953253</td>\n",
       "      <td>1.084926</td>\n",
       "    </tr>\n",
       "    <tr>\n",
       "      <th>4</th>\n",
       "      <td>0.852510</td>\n",
       "      <td>0.937722</td>\n",
       "    </tr>\n",
       "    <tr>\n",
       "      <th>5</th>\n",
       "      <td>0.858295</td>\n",
       "      <td>0.890010</td>\n",
       "    </tr>\n",
       "    <tr>\n",
       "      <th>6</th>\n",
       "      <td>1.105338</td>\n",
       "      <td>0.984074</td>\n",
       "    </tr>\n",
       "  </tbody>\n",
       "</table>\n",
       "</div>"
      ],
      "text/plain": [
       "             INGRESOS_HOG  INGRESOS_PER_CAPITA\n",
       "ESTRATO_VIV                                   \n",
       "1                1.006133             1.382481\n",
       "2                1.162648             2.215280\n",
       "3                0.953253             1.084926\n",
       "4                0.852510             0.937722\n",
       "5                0.858295             0.890010\n",
       "6                1.105338             0.984074"
      ]
     },
     "execution_count": 26,
     "metadata": {},
     "output_type": "execute_result"
    }
   ],
   "source": [
    "data.groupby(['ESTRATO_VIV'])['INGRESOS_HOG', 'INGRESOS_PER_CAPITA'].std() / data.groupby(['ESTRATO_VIV'])['INGRESOS_HOG', 'INGRESOS_PER_CAPITA'].mean()\n"
   ]
  },
  {
   "cell_type": "code",
   "execution_count": 27,
   "metadata": {},
   "outputs": [
    {
     "data": {
      "text/html": [
       "<div>\n",
       "<style scoped>\n",
       "    .dataframe tbody tr th:only-of-type {\n",
       "        vertical-align: middle;\n",
       "    }\n",
       "\n",
       "    .dataframe tbody tr th {\n",
       "        vertical-align: top;\n",
       "    }\n",
       "\n",
       "    .dataframe thead th {\n",
       "        text-align: right;\n",
       "    }\n",
       "</style>\n",
       "<table border=\"1\" class=\"dataframe\">\n",
       "  <thead>\n",
       "    <tr style=\"text-align: right;\">\n",
       "      <th></th>\n",
       "      <th>mean</th>\n",
       "      <th>median</th>\n",
       "      <th>std</th>\n",
       "      <th>skew</th>\n",
       "    </tr>\n",
       "    <tr>\n",
       "      <th>ESTRATO_VIV</th>\n",
       "      <th></th>\n",
       "      <th></th>\n",
       "      <th></th>\n",
       "      <th></th>\n",
       "    </tr>\n",
       "  </thead>\n",
       "  <tbody>\n",
       "    <tr>\n",
       "      <th>1</th>\n",
       "      <td>4.737488e+05</td>\n",
       "      <td>371020.83</td>\n",
       "      <td>6.549485e+05</td>\n",
       "      <td>32.280448</td>\n",
       "    </tr>\n",
       "    <tr>\n",
       "      <th>2</th>\n",
       "      <td>7.273690e+05</td>\n",
       "      <td>548444.44</td>\n",
       "      <td>1.611326e+06</td>\n",
       "      <td>141.940251</td>\n",
       "    </tr>\n",
       "    <tr>\n",
       "      <th>3</th>\n",
       "      <td>1.305186e+06</td>\n",
       "      <td>925916.69</td>\n",
       "      <td>1.416030e+06</td>\n",
       "      <td>4.684356</td>\n",
       "    </tr>\n",
       "    <tr>\n",
       "      <th>4</th>\n",
       "      <td>3.094257e+06</td>\n",
       "      <td>2380000.00</td>\n",
       "      <td>2.901551e+06</td>\n",
       "      <td>3.583520</td>\n",
       "    </tr>\n",
       "    <tr>\n",
       "      <th>5</th>\n",
       "      <td>4.318404e+06</td>\n",
       "      <td>3400000.00</td>\n",
       "      <td>3.843422e+06</td>\n",
       "      <td>2.954397</td>\n",
       "    </tr>\n",
       "    <tr>\n",
       "      <th>6</th>\n",
       "      <td>5.869000e+06</td>\n",
       "      <td>4275689.00</td>\n",
       "      <td>5.775530e+06</td>\n",
       "      <td>3.127813</td>\n",
       "    </tr>\n",
       "  </tbody>\n",
       "</table>\n",
       "</div>"
      ],
      "text/plain": [
       "                     mean      median           std        skew\n",
       "ESTRATO_VIV                                                    \n",
       "1            4.737488e+05   371020.83  6.549485e+05   32.280448\n",
       "2            7.273690e+05   548444.44  1.611326e+06  141.940251\n",
       "3            1.305186e+06   925916.69  1.416030e+06    4.684356\n",
       "4            3.094257e+06  2380000.00  2.901551e+06    3.583520\n",
       "5            4.318404e+06  3400000.00  3.843422e+06    2.954397\n",
       "6            5.869000e+06  4275689.00  5.775530e+06    3.127813"
      ]
     },
     "execution_count": 27,
     "metadata": {},
     "output_type": "execute_result"
    }
   ],
   "source": [
    "data.groupby('ESTRATO_VIV')['INGRESOS_PER_CAPITA'].aggregate([np.mean, np.median, np.std, st.skew ])\n"
   ]
  },
  {
   "cell_type": "code",
   "execution_count": 28,
   "metadata": {},
   "outputs": [
    {
     "data": {
      "text/html": [
       "<div>\n",
       "<style scoped>\n",
       "    .dataframe tbody tr th:only-of-type {\n",
       "        vertical-align: middle;\n",
       "    }\n",
       "\n",
       "    .dataframe tbody tr th {\n",
       "        vertical-align: top;\n",
       "    }\n",
       "\n",
       "    .dataframe thead th {\n",
       "        text-align: right;\n",
       "    }\n",
       "</style>\n",
       "<table border=\"1\" class=\"dataframe\">\n",
       "  <thead>\n",
       "    <tr style=\"text-align: right;\">\n",
       "      <th></th>\n",
       "      <th>mean</th>\n",
       "      <th>median</th>\n",
       "      <th>std</th>\n",
       "      <th>skew</th>\n",
       "    </tr>\n",
       "    <tr>\n",
       "      <th>ESTRATO_VIV</th>\n",
       "      <th></th>\n",
       "      <th></th>\n",
       "      <th></th>\n",
       "      <th></th>\n",
       "    </tr>\n",
       "  </thead>\n",
       "  <tbody>\n",
       "    <tr>\n",
       "      <th>1</th>\n",
       "      <td>4.737488e+05</td>\n",
       "      <td>371020.83</td>\n",
       "      <td>6.549485e+05</td>\n",
       "      <td>32.280448</td>\n",
       "    </tr>\n",
       "    <tr>\n",
       "      <th>2</th>\n",
       "      <td>7.273690e+05</td>\n",
       "      <td>548444.44</td>\n",
       "      <td>1.611326e+06</td>\n",
       "      <td>141.940251</td>\n",
       "    </tr>\n",
       "    <tr>\n",
       "      <th>3</th>\n",
       "      <td>1.305186e+06</td>\n",
       "      <td>925916.69</td>\n",
       "      <td>1.416030e+06</td>\n",
       "      <td>4.684356</td>\n",
       "    </tr>\n",
       "    <tr>\n",
       "      <th>4</th>\n",
       "      <td>3.094257e+06</td>\n",
       "      <td>2380000.00</td>\n",
       "      <td>2.901551e+06</td>\n",
       "      <td>3.583520</td>\n",
       "    </tr>\n",
       "    <tr>\n",
       "      <th>5</th>\n",
       "      <td>4.318404e+06</td>\n",
       "      <td>3400000.00</td>\n",
       "      <td>3.843422e+06</td>\n",
       "      <td>2.954397</td>\n",
       "    </tr>\n",
       "    <tr>\n",
       "      <th>6</th>\n",
       "      <td>5.869000e+06</td>\n",
       "      <td>4275689.00</td>\n",
       "      <td>5.775530e+06</td>\n",
       "      <td>3.127813</td>\n",
       "    </tr>\n",
       "  </tbody>\n",
       "</table>\n",
       "</div>"
      ],
      "text/plain": [
       "                     mean      median           std        skew\n",
       "ESTRATO_VIV                                                    \n",
       "1            4.737488e+05   371020.83  6.549485e+05   32.280448\n",
       "2            7.273690e+05   548444.44  1.611326e+06  141.940251\n",
       "3            1.305186e+06   925916.69  1.416030e+06    4.684356\n",
       "4            3.094257e+06  2380000.00  2.901551e+06    3.583520\n",
       "5            4.318404e+06  3400000.00  3.843422e+06    2.954397\n",
       "6            5.869000e+06  4275689.00  5.775530e+06    3.127813"
      ]
     },
     "execution_count": 28,
     "metadata": {},
     "output_type": "execute_result"
    }
   ],
   "source": [
    "data.groupby('ESTRATO_VIV', as_index=False)['INGRESOS_PER_CAPITA'].agg([np.mean, np.median, np.std, st.skew ])\n"
   ]
  },
  {
   "cell_type": "markdown",
   "metadata": {},
   "source": [
    "Otra funcionalidad de pandas es pasar un diccionario que relacione las columnas a las operaciones aplicadas a dichas columnas"
   ]
  },
  {
   "cell_type": "code",
   "execution_count": 29,
   "metadata": {},
   "outputs": [
    {
     "data": {
      "text/html": [
       "<div>\n",
       "<style scoped>\n",
       "    .dataframe tbody tr th:only-of-type {\n",
       "        vertical-align: middle;\n",
       "    }\n",
       "\n",
       "    .dataframe tbody tr th {\n",
       "        vertical-align: top;\n",
       "    }\n",
       "\n",
       "    .dataframe thead th {\n",
       "        text-align: right;\n",
       "    }\n",
       "</style>\n",
       "<table border=\"1\" class=\"dataframe\">\n",
       "  <thead>\n",
       "    <tr style=\"text-align: right;\">\n",
       "      <th></th>\n",
       "      <th>INGRESOS_PER_CAPITA</th>\n",
       "      <th>INGRESOS_HOG</th>\n",
       "    </tr>\n",
       "    <tr>\n",
       "      <th>ESTRATO_VIV</th>\n",
       "      <th></th>\n",
       "      <th></th>\n",
       "    </tr>\n",
       "  </thead>\n",
       "  <tbody>\n",
       "    <tr>\n",
       "      <th>1</th>\n",
       "      <td>4.737488e+05</td>\n",
       "      <td>1.356108e+06</td>\n",
       "    </tr>\n",
       "    <tr>\n",
       "      <th>2</th>\n",
       "      <td>7.273690e+05</td>\n",
       "      <td>1.980181e+06</td>\n",
       "    </tr>\n",
       "    <tr>\n",
       "      <th>3</th>\n",
       "      <td>1.305186e+06</td>\n",
       "      <td>3.216945e+06</td>\n",
       "    </tr>\n",
       "    <tr>\n",
       "      <th>4</th>\n",
       "      <td>3.094257e+06</td>\n",
       "      <td>6.601989e+06</td>\n",
       "    </tr>\n",
       "    <tr>\n",
       "      <th>5</th>\n",
       "      <td>4.318404e+06</td>\n",
       "      <td>9.239465e+06</td>\n",
       "    </tr>\n",
       "    <tr>\n",
       "      <th>6</th>\n",
       "      <td>5.869000e+06</td>\n",
       "      <td>1.170105e+07</td>\n",
       "    </tr>\n",
       "  </tbody>\n",
       "</table>\n",
       "</div>"
      ],
      "text/plain": [
       "             INGRESOS_PER_CAPITA  INGRESOS_HOG\n",
       "ESTRATO_VIV                                   \n",
       "1                   4.737488e+05  1.356108e+06\n",
       "2                   7.273690e+05  1.980181e+06\n",
       "3                   1.305186e+06  3.216945e+06\n",
       "4                   3.094257e+06  6.601989e+06\n",
       "5                   4.318404e+06  9.239465e+06\n",
       "6                   5.869000e+06  1.170105e+07"
      ]
     },
     "execution_count": 29,
     "metadata": {},
     "output_type": "execute_result"
    }
   ],
   "source": [
    "data.groupby('ESTRATO_VIV').agg({'INGRESOS_PER_CAPITA': 'mean', 'INGRESOS_HOG': 'mean'})"
   ]
  },
  {
   "cell_type": "markdown",
   "metadata": {},
   "source": [
    "Se pueden crear varias funciones personalizadas para aplicar en las agregaciones:"
   ]
  },
  {
   "cell_type": "code",
   "execution_count": 30,
   "metadata": {},
   "outputs": [
    {
     "data": {
      "text/html": [
       "<div>\n",
       "<style scoped>\n",
       "    .dataframe tbody tr th:only-of-type {\n",
       "        vertical-align: middle;\n",
       "    }\n",
       "\n",
       "    .dataframe tbody tr th {\n",
       "        vertical-align: top;\n",
       "    }\n",
       "\n",
       "    .dataframe thead tr th {\n",
       "        text-align: left;\n",
       "    }\n",
       "</style>\n",
       "<table border=\"1\" class=\"dataframe\">\n",
       "  <thead>\n",
       "    <tr>\n",
       "      <th></th>\n",
       "      <th>ESTRATO_VIV</th>\n",
       "      <th colspan=\"2\" halign=\"left\">INGRESOS_PER_CAPITA</th>\n",
       "      <th colspan=\"2\" halign=\"left\">INGRESOS_HOG</th>\n",
       "    </tr>\n",
       "    <tr>\n",
       "      <th></th>\n",
       "      <th></th>\n",
       "      <th>mean</th>\n",
       "      <th>cv</th>\n",
       "      <th>mean</th>\n",
       "      <th>cv</th>\n",
       "    </tr>\n",
       "  </thead>\n",
       "  <tbody>\n",
       "    <tr>\n",
       "      <th>0</th>\n",
       "      <td>1</td>\n",
       "      <td>4.737488e+05</td>\n",
       "      <td>1.382415</td>\n",
       "      <td>1.356108e+06</td>\n",
       "      <td>1.006085</td>\n",
       "    </tr>\n",
       "    <tr>\n",
       "      <th>1</th>\n",
       "      <td>2</td>\n",
       "      <td>7.273690e+05</td>\n",
       "      <td>2.215256</td>\n",
       "      <td>1.980181e+06</td>\n",
       "      <td>1.162636</td>\n",
       "    </tr>\n",
       "    <tr>\n",
       "      <th>2</th>\n",
       "      <td>3</td>\n",
       "      <td>1.305186e+06</td>\n",
       "      <td>1.084911</td>\n",
       "      <td>3.216945e+06</td>\n",
       "      <td>0.953239</td>\n",
       "    </tr>\n",
       "    <tr>\n",
       "      <th>3</th>\n",
       "      <td>4</td>\n",
       "      <td>3.094257e+06</td>\n",
       "      <td>0.937686</td>\n",
       "      <td>6.601989e+06</td>\n",
       "      <td>0.852477</td>\n",
       "    </tr>\n",
       "    <tr>\n",
       "      <th>4</th>\n",
       "      <td>5</td>\n",
       "      <td>4.318404e+06</td>\n",
       "      <td>0.889841</td>\n",
       "      <td>9.239465e+06</td>\n",
       "      <td>0.858131</td>\n",
       "    </tr>\n",
       "    <tr>\n",
       "      <th>5</th>\n",
       "      <td>6</td>\n",
       "      <td>5.869000e+06</td>\n",
       "      <td>0.983703</td>\n",
       "      <td>1.170105e+07</td>\n",
       "      <td>1.104921</td>\n",
       "    </tr>\n",
       "  </tbody>\n",
       "</table>\n",
       "</div>"
      ],
      "text/plain": [
       "  ESTRATO_VIV INGRESOS_PER_CAPITA            INGRESOS_HOG          \n",
       "                             mean        cv          mean        cv\n",
       "0           1        4.737488e+05  1.382415  1.356108e+06  1.006085\n",
       "1           2        7.273690e+05  2.215256  1.980181e+06  1.162636\n",
       "2           3        1.305186e+06  1.084911  3.216945e+06  0.953239\n",
       "3           4        3.094257e+06  0.937686  6.601989e+06  0.852477\n",
       "4           5        4.318404e+06  0.889841  9.239465e+06  0.858131\n",
       "5           6        5.869000e+06  0.983703  1.170105e+07  1.104921"
      ]
     },
     "execution_count": 30,
     "metadata": {},
     "output_type": "execute_result"
    }
   ],
   "source": [
    "def cv(x):\n",
    "    return np.std(x) / np.mean(x)\n",
    "\n",
    "data.groupby('ESTRATO_VIV', as_index=False).agg({'INGRESOS_PER_CAPITA': ['mean', cv], 'INGRESOS_HOG':  ['mean', cv]})"
   ]
  },
  {
   "cell_type": "code",
   "execution_count": 31,
   "metadata": {},
   "outputs": [
    {
     "data": {
      "text/html": [
       "<div>\n",
       "<style scoped>\n",
       "    .dataframe tbody tr th:only-of-type {\n",
       "        vertical-align: middle;\n",
       "    }\n",
       "\n",
       "    .dataframe tbody tr th {\n",
       "        vertical-align: top;\n",
       "    }\n",
       "\n",
       "    .dataframe thead tr th {\n",
       "        text-align: left;\n",
       "    }\n",
       "\n",
       "    .dataframe thead tr:last-of-type th {\n",
       "        text-align: right;\n",
       "    }\n",
       "</style>\n",
       "<table border=\"1\" class=\"dataframe\">\n",
       "  <thead>\n",
       "    <tr>\n",
       "      <th></th>\n",
       "      <th colspan=\"2\" halign=\"left\">INGRESOS_PER_CAPITA</th>\n",
       "      <th colspan=\"2\" halign=\"left\">INGRESOS_HOG</th>\n",
       "    </tr>\n",
       "    <tr>\n",
       "      <th></th>\n",
       "      <th>mean</th>\n",
       "      <th>cv</th>\n",
       "      <th>mean</th>\n",
       "      <th>cv</th>\n",
       "    </tr>\n",
       "    <tr>\n",
       "      <th>ESTRATO_VIV</th>\n",
       "      <th></th>\n",
       "      <th></th>\n",
       "      <th></th>\n",
       "      <th></th>\n",
       "    </tr>\n",
       "  </thead>\n",
       "  <tbody>\n",
       "    <tr>\n",
       "      <th>1</th>\n",
       "      <td>4.737488e+05</td>\n",
       "      <td>1.382415</td>\n",
       "      <td>1.356108e+06</td>\n",
       "      <td>1.006085</td>\n",
       "    </tr>\n",
       "    <tr>\n",
       "      <th>2</th>\n",
       "      <td>7.273690e+05</td>\n",
       "      <td>2.215256</td>\n",
       "      <td>1.980181e+06</td>\n",
       "      <td>1.162636</td>\n",
       "    </tr>\n",
       "    <tr>\n",
       "      <th>3</th>\n",
       "      <td>1.305186e+06</td>\n",
       "      <td>1.084911</td>\n",
       "      <td>3.216945e+06</td>\n",
       "      <td>0.953239</td>\n",
       "    </tr>\n",
       "    <tr>\n",
       "      <th>4</th>\n",
       "      <td>3.094257e+06</td>\n",
       "      <td>0.937686</td>\n",
       "      <td>6.601989e+06</td>\n",
       "      <td>0.852477</td>\n",
       "    </tr>\n",
       "    <tr>\n",
       "      <th>5</th>\n",
       "      <td>4.318404e+06</td>\n",
       "      <td>0.889841</td>\n",
       "      <td>9.239465e+06</td>\n",
       "      <td>0.858131</td>\n",
       "    </tr>\n",
       "    <tr>\n",
       "      <th>6</th>\n",
       "      <td>5.869000e+06</td>\n",
       "      <td>0.983703</td>\n",
       "      <td>1.170105e+07</td>\n",
       "      <td>1.104921</td>\n",
       "    </tr>\n",
       "  </tbody>\n",
       "</table>\n",
       "</div>"
      ],
      "text/plain": [
       "            INGRESOS_PER_CAPITA            INGRESOS_HOG          \n",
       "                           mean        cv          mean        cv\n",
       "ESTRATO_VIV                                                      \n",
       "1                  4.737488e+05  1.382415  1.356108e+06  1.006085\n",
       "2                  7.273690e+05  2.215256  1.980181e+06  1.162636\n",
       "3                  1.305186e+06  1.084911  3.216945e+06  0.953239\n",
       "4                  3.094257e+06  0.937686  6.601989e+06  0.852477\n",
       "5                  4.318404e+06  0.889841  9.239465e+06  0.858131\n",
       "6                  5.869000e+06  0.983703  1.170105e+07  1.104921"
      ]
     },
     "execution_count": 31,
     "metadata": {},
     "output_type": "execute_result"
    }
   ],
   "source": [
    "data.groupby('ESTRATO_VIV').agg({'INGRESOS_PER_CAPITA': ['mean', cv], 'INGRESOS_HOG':  ['mean', cv]})"
   ]
  },
  {
   "cell_type": "code",
   "execution_count": 32,
   "metadata": {},
   "outputs": [
    {
     "data": {
      "text/html": [
       "<div>\n",
       "<style scoped>\n",
       "    .dataframe tbody tr th:only-of-type {\n",
       "        vertical-align: middle;\n",
       "    }\n",
       "\n",
       "    .dataframe tbody tr th {\n",
       "        vertical-align: top;\n",
       "    }\n",
       "\n",
       "    .dataframe thead tr th {\n",
       "        text-align: left;\n",
       "    }\n",
       "\n",
       "    .dataframe thead tr:last-of-type th {\n",
       "        text-align: right;\n",
       "    }\n",
       "</style>\n",
       "<table border=\"1\" class=\"dataframe\">\n",
       "  <thead>\n",
       "    <tr>\n",
       "      <th></th>\n",
       "      <th colspan=\"2\" halign=\"left\">INGRESOS_PER_CAPITA</th>\n",
       "      <th colspan=\"2\" halign=\"left\">INGRESOS_HOG</th>\n",
       "    </tr>\n",
       "    <tr>\n",
       "      <th></th>\n",
       "      <th>Promedio</th>\n",
       "      <th>CV</th>\n",
       "      <th>Promedio</th>\n",
       "      <th>CV</th>\n",
       "    </tr>\n",
       "    <tr>\n",
       "      <th>ESTRATO_VIV</th>\n",
       "      <th></th>\n",
       "      <th></th>\n",
       "      <th></th>\n",
       "      <th></th>\n",
       "    </tr>\n",
       "  </thead>\n",
       "  <tbody>\n",
       "    <tr>\n",
       "      <th>1</th>\n",
       "      <td>4.737488e+05</td>\n",
       "      <td>1.382415</td>\n",
       "      <td>1.356108e+06</td>\n",
       "      <td>1.006085</td>\n",
       "    </tr>\n",
       "    <tr>\n",
       "      <th>2</th>\n",
       "      <td>7.273690e+05</td>\n",
       "      <td>2.215256</td>\n",
       "      <td>1.980181e+06</td>\n",
       "      <td>1.162636</td>\n",
       "    </tr>\n",
       "    <tr>\n",
       "      <th>3</th>\n",
       "      <td>1.305186e+06</td>\n",
       "      <td>1.084911</td>\n",
       "      <td>3.216945e+06</td>\n",
       "      <td>0.953239</td>\n",
       "    </tr>\n",
       "    <tr>\n",
       "      <th>4</th>\n",
       "      <td>3.094257e+06</td>\n",
       "      <td>0.937686</td>\n",
       "      <td>6.601989e+06</td>\n",
       "      <td>0.852477</td>\n",
       "    </tr>\n",
       "    <tr>\n",
       "      <th>5</th>\n",
       "      <td>4.318404e+06</td>\n",
       "      <td>0.889841</td>\n",
       "      <td>9.239465e+06</td>\n",
       "      <td>0.858131</td>\n",
       "    </tr>\n",
       "    <tr>\n",
       "      <th>6</th>\n",
       "      <td>5.869000e+06</td>\n",
       "      <td>0.983703</td>\n",
       "      <td>1.170105e+07</td>\n",
       "      <td>1.104921</td>\n",
       "    </tr>\n",
       "  </tbody>\n",
       "</table>\n",
       "</div>"
      ],
      "text/plain": [
       "            INGRESOS_PER_CAPITA            INGRESOS_HOG          \n",
       "                       Promedio        CV      Promedio        CV\n",
       "ESTRATO_VIV                                                      \n",
       "1                  4.737488e+05  1.382415  1.356108e+06  1.006085\n",
       "2                  7.273690e+05  2.215256  1.980181e+06  1.162636\n",
       "3                  1.305186e+06  1.084911  3.216945e+06  0.953239\n",
       "4                  3.094257e+06  0.937686  6.601989e+06  0.852477\n",
       "5                  4.318404e+06  0.889841  9.239465e+06  0.858131\n",
       "6                  5.869000e+06  0.983703  1.170105e+07  1.104921"
      ]
     },
     "execution_count": 32,
     "metadata": {},
     "output_type": "execute_result"
    }
   ],
   "source": [
    "#df.groupby(['ESTRATO_VIV']).agg({\"Amount\": [(\"Sum\", \"sum\"), (\"Count\", \"count\")]})\n",
    "data.groupby('ESTRATO_VIV').agg({'INGRESOS_PER_CAPITA': [('Promedio', 'mean'), ('CV', cv)], 'INGRESOS_HOG':[('Promedio', 'mean'), ('CV', cv)]})"
   ]
  },
  {
   "cell_type": "markdown",
   "metadata": {},
   "source": [
    "Calcular promedio y mediana del ingreso y del ingreso percapita:"
   ]
  },
  {
   "cell_type": "code",
   "execution_count": 34,
   "metadata": {},
   "outputs": [],
   "source": [
    "consulta = data.groupby('ESTRATO_VIV').agg({ \n",
    "    'DIRECTORIO_HOG':'size',\n",
    "    'INGRESOS_HOG':['mean','median'],\n",
    "    'INGRESOS_PER_CAPITA':['mean','median']\n",
    "})"
   ]
  },
  {
   "cell_type": "code",
   "execution_count": 35,
   "metadata": {},
   "outputs": [
    {
     "data": {
      "text/html": [
       "<div>\n",
       "<style scoped>\n",
       "    .dataframe tbody tr th:only-of-type {\n",
       "        vertical-align: middle;\n",
       "    }\n",
       "\n",
       "    .dataframe tbody tr th {\n",
       "        vertical-align: top;\n",
       "    }\n",
       "\n",
       "    .dataframe thead tr th {\n",
       "        text-align: left;\n",
       "    }\n",
       "\n",
       "    .dataframe thead tr:last-of-type th {\n",
       "        text-align: right;\n",
       "    }\n",
       "</style>\n",
       "<table border=\"1\" class=\"dataframe\">\n",
       "  <thead>\n",
       "    <tr>\n",
       "      <th></th>\n",
       "      <th>DIRECTORIO_HOG</th>\n",
       "      <th colspan=\"2\" halign=\"left\">INGRESOS_HOG</th>\n",
       "      <th colspan=\"2\" halign=\"left\">INGRESOS_PER_CAPITA</th>\n",
       "    </tr>\n",
       "    <tr>\n",
       "      <th></th>\n",
       "      <th>size</th>\n",
       "      <th>mean</th>\n",
       "      <th>median</th>\n",
       "      <th>mean</th>\n",
       "      <th>median</th>\n",
       "    </tr>\n",
       "    <tr>\n",
       "      <th>ESTRATO_VIV</th>\n",
       "      <th></th>\n",
       "      <th></th>\n",
       "      <th></th>\n",
       "      <th></th>\n",
       "      <th></th>\n",
       "    </tr>\n",
       "  </thead>\n",
       "  <tbody>\n",
       "    <tr>\n",
       "      <th>1</th>\n",
       "      <td>10570</td>\n",
       "      <td>1.356108e+06</td>\n",
       "      <td>1080000.0</td>\n",
       "      <td>4.737488e+05</td>\n",
       "      <td>371020.83</td>\n",
       "    </tr>\n",
       "    <tr>\n",
       "      <th>2</th>\n",
       "      <td>45629</td>\n",
       "      <td>1.980181e+06</td>\n",
       "      <td>1555000.0</td>\n",
       "      <td>7.273690e+05</td>\n",
       "      <td>548444.44</td>\n",
       "    </tr>\n",
       "    <tr>\n",
       "      <th>3</th>\n",
       "      <td>35886</td>\n",
       "      <td>3.216945e+06</td>\n",
       "      <td>2400000.0</td>\n",
       "      <td>1.305186e+06</td>\n",
       "      <td>925916.69</td>\n",
       "    </tr>\n",
       "    <tr>\n",
       "      <th>4</th>\n",
       "      <td>13071</td>\n",
       "      <td>6.601989e+06</td>\n",
       "      <td>5200000.0</td>\n",
       "      <td>3.094257e+06</td>\n",
       "      <td>2380000.00</td>\n",
       "    </tr>\n",
       "    <tr>\n",
       "      <th>5</th>\n",
       "      <td>2630</td>\n",
       "      <td>9.239465e+06</td>\n",
       "      <td>7332708.5</td>\n",
       "      <td>4.318404e+06</td>\n",
       "      <td>3400000.00</td>\n",
       "    </tr>\n",
       "    <tr>\n",
       "      <th>6</th>\n",
       "      <td>1325</td>\n",
       "      <td>1.170105e+07</td>\n",
       "      <td>8000000.0</td>\n",
       "      <td>5.869000e+06</td>\n",
       "      <td>4275689.00</td>\n",
       "    </tr>\n",
       "  </tbody>\n",
       "</table>\n",
       "</div>"
      ],
      "text/plain": [
       "            DIRECTORIO_HOG  INGRESOS_HOG            INGRESOS_PER_CAPITA  \\\n",
       "                      size          mean     median                mean   \n",
       "ESTRATO_VIV                                                               \n",
       "1                    10570  1.356108e+06  1080000.0        4.737488e+05   \n",
       "2                    45629  1.980181e+06  1555000.0        7.273690e+05   \n",
       "3                    35886  3.216945e+06  2400000.0        1.305186e+06   \n",
       "4                    13071  6.601989e+06  5200000.0        3.094257e+06   \n",
       "5                     2630  9.239465e+06  7332708.5        4.318404e+06   \n",
       "6                     1325  1.170105e+07  8000000.0        5.869000e+06   \n",
       "\n",
       "                         \n",
       "                 median  \n",
       "ESTRATO_VIV              \n",
       "1             371020.83  \n",
       "2             548444.44  \n",
       "3             925916.69  \n",
       "4            2380000.00  \n",
       "5            3400000.00  \n",
       "6            4275689.00  "
      ]
     },
     "execution_count": 35,
     "metadata": {},
     "output_type": "execute_result"
    }
   ],
   "source": [
    "consulta"
   ]
  },
  {
   "cell_type": "code",
   "execution_count": 36,
   "metadata": {},
   "outputs": [
    {
     "data": {
      "text/plain": [
       "MultiIndex(levels=[['DIRECTORIO_HOG', 'INGRESOS_HOG', 'INGRESOS_PER_CAPITA'], ['mean', 'median', 'size']],\n",
       "           codes=[[0, 1, 1, 2, 2], [2, 0, 1, 0, 1]])"
      ]
     },
     "execution_count": 36,
     "metadata": {},
     "output_type": "execute_result"
    }
   ],
   "source": [
    "consulta.columns"
   ]
  },
  {
   "cell_type": "code",
   "execution_count": 37,
   "metadata": {},
   "outputs": [
    {
     "data": {
      "text/html": [
       "<div>\n",
       "<style scoped>\n",
       "    .dataframe tbody tr th:only-of-type {\n",
       "        vertical-align: middle;\n",
       "    }\n",
       "\n",
       "    .dataframe tbody tr th {\n",
       "        vertical-align: top;\n",
       "    }\n",
       "\n",
       "    .dataframe thead th {\n",
       "        text-align: right;\n",
       "    }\n",
       "</style>\n",
       "<table border=\"1\" class=\"dataframe\">\n",
       "  <thead>\n",
       "    <tr style=\"text-align: right;\">\n",
       "      <th></th>\n",
       "      <th>DIRECTORIO_HOGsize</th>\n",
       "      <th>INGRESOS_HOGmean</th>\n",
       "      <th>INGRESOS_HOGmedian</th>\n",
       "      <th>INGRESOS_PER_CAPITAmean</th>\n",
       "      <th>INGRESOS_PER_CAPITAmedian</th>\n",
       "    </tr>\n",
       "    <tr>\n",
       "      <th>ESTRATO_VIV</th>\n",
       "      <th></th>\n",
       "      <th></th>\n",
       "      <th></th>\n",
       "      <th></th>\n",
       "      <th></th>\n",
       "    </tr>\n",
       "  </thead>\n",
       "  <tbody>\n",
       "    <tr>\n",
       "      <th>1</th>\n",
       "      <td>10570</td>\n",
       "      <td>1.356108e+06</td>\n",
       "      <td>1080000.0</td>\n",
       "      <td>4.737488e+05</td>\n",
       "      <td>371020.83</td>\n",
       "    </tr>\n",
       "    <tr>\n",
       "      <th>2</th>\n",
       "      <td>45629</td>\n",
       "      <td>1.980181e+06</td>\n",
       "      <td>1555000.0</td>\n",
       "      <td>7.273690e+05</td>\n",
       "      <td>548444.44</td>\n",
       "    </tr>\n",
       "    <tr>\n",
       "      <th>3</th>\n",
       "      <td>35886</td>\n",
       "      <td>3.216945e+06</td>\n",
       "      <td>2400000.0</td>\n",
       "      <td>1.305186e+06</td>\n",
       "      <td>925916.69</td>\n",
       "    </tr>\n",
       "    <tr>\n",
       "      <th>4</th>\n",
       "      <td>13071</td>\n",
       "      <td>6.601989e+06</td>\n",
       "      <td>5200000.0</td>\n",
       "      <td>3.094257e+06</td>\n",
       "      <td>2380000.00</td>\n",
       "    </tr>\n",
       "    <tr>\n",
       "      <th>5</th>\n",
       "      <td>2630</td>\n",
       "      <td>9.239465e+06</td>\n",
       "      <td>7332708.5</td>\n",
       "      <td>4.318404e+06</td>\n",
       "      <td>3400000.00</td>\n",
       "    </tr>\n",
       "    <tr>\n",
       "      <th>6</th>\n",
       "      <td>1325</td>\n",
       "      <td>1.170105e+07</td>\n",
       "      <td>8000000.0</td>\n",
       "      <td>5.869000e+06</td>\n",
       "      <td>4275689.00</td>\n",
       "    </tr>\n",
       "  </tbody>\n",
       "</table>\n",
       "</div>"
      ],
      "text/plain": [
       "             DIRECTORIO_HOGsize  INGRESOS_HOGmean  INGRESOS_HOGmedian  \\\n",
       "ESTRATO_VIV                                                             \n",
       "1                         10570      1.356108e+06           1080000.0   \n",
       "2                         45629      1.980181e+06           1555000.0   \n",
       "3                         35886      3.216945e+06           2400000.0   \n",
       "4                         13071      6.601989e+06           5200000.0   \n",
       "5                          2630      9.239465e+06           7332708.5   \n",
       "6                          1325      1.170105e+07           8000000.0   \n",
       "\n",
       "             INGRESOS_PER_CAPITAmean  INGRESOS_PER_CAPITAmedian  \n",
       "ESTRATO_VIV                                                      \n",
       "1                       4.737488e+05                  371020.83  \n",
       "2                       7.273690e+05                  548444.44  \n",
       "3                       1.305186e+06                  925916.69  \n",
       "4                       3.094257e+06                 2380000.00  \n",
       "5                       4.318404e+06                 3400000.00  \n",
       "6                       5.869000e+06                 4275689.00  "
      ]
     },
     "execution_count": 37,
     "metadata": {},
     "output_type": "execute_result"
    }
   ],
   "source": [
    "consulta.columns = list(map(''.join, consulta.columns.values))\n",
    "consulta"
   ]
  },
  {
   "cell_type": "code",
   "execution_count": null,
   "metadata": {},
   "outputs": [],
   "source": [
    "consulta.columns "
   ]
  }
 ],
 "metadata": {
  "kernelspec": {
   "display_name": "Python 3",
   "language": "python",
   "name": "python3"
  },
  "language_info": {
   "codemirror_mode": {
    "name": "ipython",
    "version": 3
   },
   "file_extension": ".py",
   "mimetype": "text/x-python",
   "name": "python",
   "nbconvert_exporter": "python",
   "pygments_lexer": "ipython3",
   "version": "3.7.3"
  }
 },
 "nbformat": 4,
 "nbformat_minor": 2
}
