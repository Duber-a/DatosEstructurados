{
 "cells": [
  {
   "cell_type": "code",
   "execution_count": 205,
   "metadata": {},
   "outputs": [],
   "source": [
    "import os\n",
    "import numpy as np\n",
    "import pandas as pd\n",
    "import scipy.stats as st\n"
   ]
  },
  {
   "cell_type": "code",
   "execution_count": 206,
   "metadata": {},
   "outputs": [],
   "source": [
    "os.chdir(r'C:\\Users\\Home\\Documents\\Laboral2020\\Konrad Lorenz\\Datos Estructurados y No estructurados\\clase2\\datos')"
   ]
  },
  {
   "cell_type": "code",
   "execution_count": 207,
   "metadata": {},
   "outputs": [
    {
     "data": {
      "text/plain": [
       "['.Rhistory', 'Ejercicio Clase.R', 'variables_adicionales_hogar_v3.txt']"
      ]
     },
     "execution_count": 207,
     "metadata": {},
     "output_type": "execute_result"
    }
   ],
   "source": [
    "os.listdir()"
   ]
  },
  {
   "cell_type": "code",
   "execution_count": 208,
   "metadata": {
    "scrolled": true
   },
   "outputs": [
    {
     "data": {
      "text/plain": [
       "Index(['DIRECTORIO', 'FEX_C', 'DIRECTORIO_HOG', 'DIRECTORIO_PER',\n",
       "       'PUNTAJE_PISOS', 'PUNTAJE_PAREDES', 'PUNTAJE_SANITARIO',\n",
       "       'PUNTAJE_BASURAS', 'PUNTAJE_AGUA', 'PUNTAJE_COMBUSTIBLE',\n",
       "       'PUNTAJE_HACINAMIENTO', 'PUNTAJE_EDUC_JEFE', 'PUNTAJE_PROM_12',\n",
       "       'PUNTAJE_ASIS_5_11', 'PUNTAJE_ASIS_12_18', 'PUNTAJE_NIñOS_SEIS',\n",
       "       'TOTAL_PUNTAJE', 'INGRESOS_HOG', 'INGRESOS_PER_CAPITA', 'HOGAR_LP',\n",
       "       'HOGAR_LE', 'ESTRATO_VIV', 'PER_UG', 'IPM_BAJO_LOGRO_ED',\n",
       "       'IPM_ANALFABET', 'IPM_INASISTENCIA_ESC', 'IPM_REZAGO_ESC', 'IPM_PI',\n",
       "       'IPM_TRABAJO_INFANTIL', 'IPM_ASEG_SALUD', 'IPM_ACCESO_SALUD',\n",
       "       'IPM_DESEMPLEO_LP', 'IPM_EMPLEO_FORMAL', 'IPM_AGUA', 'IPM_SAN_BASICO',\n",
       "       'IPM_PISOS', 'IPM_PAREDES', 'IPM_HACINAMIENTO', 'IPM',\n",
       "       'HOGAR_POBRE_IPM'],\n",
       "      dtype='object')"
      ]
     },
     "execution_count": 208,
     "metadata": {},
     "output_type": "execute_result"
    }
   ],
   "source": [
    "data = pd.read_csv('variables_adicionales_hogar_v3.txt', sep = \";\")\n",
    "data.columns"
   ]
  },
  {
   "cell_type": "code",
   "execution_count": 209,
   "metadata": {},
   "outputs": [
    {
     "name": "stdout",
     "output_type": "stream",
     "text": [
      "<class 'pandas.core.frame.DataFrame'>\n",
      "RangeIndex: 109111 entries, 0 to 109110\n",
      "Data columns (total 40 columns):\n",
      "DIRECTORIO              109111 non-null int64\n",
      "FEX_C                   109111 non-null float64\n",
      "DIRECTORIO_HOG          109111 non-null int64\n",
      "DIRECTORIO_PER          109111 non-null int64\n",
      "PUNTAJE_PISOS           109111 non-null float64\n",
      "PUNTAJE_PAREDES         109111 non-null float64\n",
      "PUNTAJE_SANITARIO       109111 non-null float64\n",
      "PUNTAJE_BASURAS         109111 non-null float64\n",
      "PUNTAJE_AGUA            109111 non-null float64\n",
      "PUNTAJE_COMBUSTIBLE     109111 non-null float64\n",
      "PUNTAJE_HACINAMIENTO    109111 non-null float64\n",
      "PUNTAJE_EDUC_JEFE       109111 non-null float64\n",
      "PUNTAJE_PROM_12         109111 non-null float64\n",
      "PUNTAJE_ASIS_5_11       109111 non-null float64\n",
      "PUNTAJE_ASIS_12_18      109111 non-null float64\n",
      "PUNTAJE_NIñOS_SEIS      109111 non-null float64\n",
      "TOTAL_PUNTAJE           109111 non-null float64\n",
      "INGRESOS_HOG            109111 non-null float64\n",
      "INGRESOS_PER_CAPITA     109111 non-null float64\n",
      "HOGAR_LP                109111 non-null int64\n",
      "HOGAR_LE                109111 non-null int64\n",
      "ESTRATO_VIV             109111 non-null int64\n",
      "PER_UG                  109111 non-null int64\n",
      "IPM_BAJO_LOGRO_ED       109111 non-null int64\n",
      "IPM_ANALFABET           109111 non-null int64\n",
      "IPM_INASISTENCIA_ESC    109111 non-null int64\n",
      "IPM_REZAGO_ESC          109111 non-null int64\n",
      "IPM_PI                  109111 non-null int64\n",
      "IPM_TRABAJO_INFANTIL    109111 non-null int64\n",
      "IPM_ASEG_SALUD          109111 non-null int64\n",
      "IPM_ACCESO_SALUD        109111 non-null int64\n",
      "IPM_DESEMPLEO_LP        109111 non-null int64\n",
      "IPM_EMPLEO_FORMAL       109111 non-null int64\n",
      "IPM_AGUA                109111 non-null int64\n",
      "IPM_SAN_BASICO          109111 non-null int64\n",
      "IPM_PISOS               109111 non-null int64\n",
      "IPM_PAREDES             109111 non-null int64\n",
      "IPM_HACINAMIENTO        109111 non-null int64\n",
      "IPM                     109111 non-null float64\n",
      "HOGAR_POBRE_IPM         109111 non-null int64\n",
      "dtypes: float64(17), int64(23)\n",
      "memory usage: 33.3 MB\n"
     ]
    }
   ],
   "source": [
    "data.info()"
   ]
  },
  {
   "cell_type": "markdown",
   "metadata": {},
   "source": [
    "# Recodificación de variables"
   ]
  },
  {
   "cell_type": "code",
   "execution_count": 210,
   "metadata": {},
   "outputs": [
    {
     "data": {
      "text/plain": [
       "2    45629\n",
       "3    35886\n",
       "4    13071\n",
       "1    10570\n",
       "5     2630\n",
       "6     1325\n",
       "Name: ESTRATO_VIV, dtype: int64"
      ]
     },
     "execution_count": 210,
     "metadata": {},
     "output_type": "execute_result"
    }
   ],
   "source": [
    " data['ESTRATO_VIV'].value_counts()"
   ]
  },
  {
   "cell_type": "code",
   "execution_count": 211,
   "metadata": {},
   "outputs": [],
   "source": [
    "data['ESTRATO_VIV'].replace({1: 'Bajo', 2: 'Bajo', 3: 'Medio', 4: 'Medio', 5: 'Alto', 6: 'Alto'}, inplace=True)"
   ]
  },
  {
   "cell_type": "code",
   "execution_count": 212,
   "metadata": {},
   "outputs": [
    {
     "data": {
      "text/plain": [
       "Bajo     56199\n",
       "Medio    48957\n",
       "Alto      3955\n",
       "Name: ESTRATO_VIV, dtype: int64"
      ]
     },
     "execution_count": 212,
     "metadata": {},
     "output_type": "execute_result"
    }
   ],
   "source": [
    " data['ESTRATO_VIV'].value_counts()"
   ]
  },
  {
   "cell_type": "markdown",
   "metadata": {},
   "source": [
    "No es recomendable recodificar en la misma variable, en su lugar es preferible crear una nueva variable"
   ]
  },
  {
   "cell_type": "code",
   "execution_count": 213,
   "metadata": {},
   "outputs": [
    {
     "data": {
      "text/plain": [
       "Bajo     56199\n",
       "Medio    48957\n",
       "Alto      3955\n",
       "Name: ESTRATO_VIV_R, dtype: int64"
      ]
     },
     "execution_count": 213,
     "metadata": {},
     "output_type": "execute_result"
    }
   ],
   "source": [
    "data = pd.read_csv('variables_adicionales_hogar_v3.txt', sep = \";\")\n",
    "data['ESTRATO_VIV_R'] = data['ESTRATO_VIV'].replace({1: 'Bajo', 2: 'Bajo', 3: 'Medio', 4: 'Medio', 5: 'Alto', 6: 'Alto'})\n",
    "data['ESTRATO_VIV_R'].value_counts()"
   ]
  },
  {
   "cell_type": "markdown",
   "metadata": {},
   "source": [
    "Otra forma de hacer la recodificación que puede ser más conveniente es utilizando listas:"
   ]
  },
  {
   "cell_type": "code",
   "execution_count": 214,
   "metadata": {},
   "outputs": [],
   "source": [
    "data.drop(columns = ['ESTRATO_VIV_R'], inplace = True)\n"
   ]
  },
  {
   "cell_type": "code",
   "execution_count": 215,
   "metadata": {},
   "outputs": [],
   "source": [
    "data[\"ESTRATO_VIV_R\"] = data[\"ESTRATO_VIV\"].replace(list(np.arange(1,7)), ['Bajo','Bajo','Medio','Medio','Alto','Alto'])\n"
   ]
  },
  {
   "cell_type": "code",
   "execution_count": 216,
   "metadata": {},
   "outputs": [
    {
     "data": {
      "text/plain": [
       "Bajo     56199\n",
       "Medio    48957\n",
       "Alto      3955\n",
       "Name: ESTRATO_VIV_R, dtype: int64"
      ]
     },
     "execution_count": 216,
     "metadata": {},
     "output_type": "execute_result"
    }
   ],
   "source": [
    "\n",
    "data[\"ESTRATO_VIV_R\"].value_counts()"
   ]
  },
  {
   "cell_type": "markdown",
   "metadata": {},
   "source": [
    "También se pude recodificar variables de tipo continuo, por ejemplo construir los cuartiles del ingreso percapita:"
   ]
  },
  {
   "cell_type": "code",
   "execution_count": 217,
   "metadata": {},
   "outputs": [
    {
     "data": {
      "text/plain": [
       "[0.0, 387841.735, 737700.0, 1456666.6, 300400000.0]"
      ]
     },
     "execution_count": 217,
     "metadata": {},
     "output_type": "execute_result"
    }
   ],
   "source": [
    "ls_percentiles = list(data['INGRESOS_PER_CAPITA'].quantile([0, .25, .5, .75, 1])) \n",
    "ls_percentiles"
   ]
  },
  {
   "cell_type": "code",
   "execution_count": 218,
   "metadata": {},
   "outputs": [
    {
     "data": {
      "text/plain": [
       "[0.0, 387841.735, 737700.0, 1456666.6, 300400000.0]"
      ]
     },
     "execution_count": 218,
     "metadata": {},
     "output_type": "execute_result"
    }
   ],
   "source": [
    "ls_percentiles"
   ]
  },
  {
   "cell_type": "code",
   "execution_count": 219,
   "metadata": {},
   "outputs": [],
   "source": [
    "data['cuartiles_ingreso'] = pd.cut(data['INGRESOS_PER_CAPITA'],  bins=ls_percentiles)"
   ]
  },
  {
   "cell_type": "code",
   "execution_count": 220,
   "metadata": {},
   "outputs": [
    {
     "data": {
      "text/plain": [
       "(387841.735, 737700.0]      27286\n",
       "(1456666.6, 300400000.0]    27276\n",
       "(737700.0, 1456666.6]       27271\n",
       "(0.0, 387841.735]           23496\n",
       "Name: cuartiles_ingreso, dtype: int64"
      ]
     },
     "execution_count": 220,
     "metadata": {},
     "output_type": "execute_result"
    }
   ],
   "source": [
    "data['cuartiles_ingreso'].value_counts() "
   ]
  },
  {
   "cell_type": "code",
   "execution_count": 221,
   "metadata": {},
   "outputs": [
    {
     "data": {
      "text/plain": [
       "[1456666.6, 300400000.0)    27280\n",
       "[0.0, 387841.735)           27278\n",
       "[737700.0, 1456666.6)       27277\n",
       "[387841.735, 737700.0)      27275\n",
       "Name: cuartiles_ingreso, dtype: int64"
      ]
     },
     "execution_count": 221,
     "metadata": {},
     "output_type": "execute_result"
    }
   ],
   "source": [
    "data['cuartiles_ingreso'] = pd.cut(data['INGRESOS_PER_CAPITA'],  bins=ls_percentiles, right=False, include_lowest = True)\n",
    "data['cuartiles_ingreso'].value_counts() "
   ]
  },
  {
   "cell_type": "code",
   "execution_count": 222,
   "metadata": {},
   "outputs": [
    {
     "data": {
      "text/plain": [
       "[1456666.6, 300400001.0)    27281\n",
       "[0.0, 387841.735)           27278\n",
       "[737700.0, 1456666.6)       27277\n",
       "[387841.735, 737700.0)      27275\n",
       "Name: cuartiles_ingreso, dtype: int64"
      ]
     },
     "execution_count": 222,
     "metadata": {},
     "output_type": "execute_result"
    }
   ],
   "source": [
    "ls_percentiles = list(data['INGRESOS_PER_CAPITA'].quantile([0, .25, .5, .75, 1])) \n",
    "ls_percentiles[4]=ls_percentiles[4]+1 \n",
    "data['cuartiles_ingreso'] = pd.cut(data['INGRESOS_PER_CAPITA'],  bins=ls_percentiles,  right=False, include_lowest = True)\n",
    "data['cuartiles_ingreso'].value_counts() "
   ]
  },
  {
   "cell_type": "code",
   "execution_count": 223,
   "metadata": {},
   "outputs": [
    {
     "data": {
      "text/plain": [
       "4    27281\n",
       "1    27278\n",
       "3    27277\n",
       "2    27275\n",
       "Name: cuartiles_ingreso, dtype: int64"
      ]
     },
     "execution_count": 223,
     "metadata": {},
     "output_type": "execute_result"
    }
   ],
   "source": [
    "data['cuartiles_ingreso'] = pd.cut(data['INGRESOS_PER_CAPITA'],  bins=ls_percentiles,  right=False, labels = [1, 2, 3, 4], include_lowest = True)\n",
    "data['cuartiles_ingreso'].value_counts() "
   ]
  },
  {
   "cell_type": "code",
   "execution_count": 224,
   "metadata": {},
   "outputs": [
    {
     "data": {
      "text/plain": [
       "1    27278\n",
       "2    27275\n",
       "3    27277\n",
       "4    27281\n",
       "Name: cuartiles_ingreso, dtype: int64"
      ]
     },
     "execution_count": 224,
     "metadata": {},
     "output_type": "execute_result"
    }
   ],
   "source": [
    "data['cuartiles_ingreso'].value_counts().sort_index() "
   ]
  },
  {
   "cell_type": "markdown",
   "metadata": {},
   "source": [
    "# Los verbos básicos para análisis de datos"
   ]
  },
  {
   "cell_type": "markdown",
   "metadata": {},
   "source": [
    "* Verbo\tdplyr (R)\tPython(pandas)\n",
    "* Crear Variables\tmutate\tassign\n",
    "* Seleccionar Variables\tselect\tfilter\n",
    "* Renombrar Variables\trename\trename\n",
    "* Filtrar\tfilter\tquery\n",
    "* Ordenar\tarrange\tsort_values\n",
    "* Agrupar\tgroup_by\tgroupby\n",
    "* Resumir\tsummarize\tagg\n"
   ]
  },
  {
   "cell_type": "markdown",
   "metadata": {},
   "source": [
    "# Seleccionar variables"
   ]
  },
  {
   "cell_type": "markdown",
   "metadata": {},
   "source": [
    "Conservar la variable identificadora del hogar (Directorio del hogar), el estrato, el ingreso, los cuartiles de ingreso y el ingreso percapita en ese orden:"
   ]
  },
  {
   "cell_type": "code",
   "execution_count": 225,
   "metadata": {},
   "outputs": [
    {
     "data": {
      "text/plain": [
       "Index(['DIRECTORIO', 'FEX_C', 'DIRECTORIO_HOG', 'DIRECTORIO_PER',\n",
       "       'PUNTAJE_PISOS', 'PUNTAJE_PAREDES', 'PUNTAJE_SANITARIO',\n",
       "       'PUNTAJE_BASURAS', 'PUNTAJE_AGUA', 'PUNTAJE_COMBUSTIBLE',\n",
       "       'PUNTAJE_HACINAMIENTO', 'PUNTAJE_EDUC_JEFE', 'PUNTAJE_PROM_12',\n",
       "       'PUNTAJE_ASIS_5_11', 'PUNTAJE_ASIS_12_18', 'PUNTAJE_NIñOS_SEIS',\n",
       "       'TOTAL_PUNTAJE', 'INGRESOS_HOG', 'INGRESOS_PER_CAPITA', 'HOGAR_LP',\n",
       "       'HOGAR_LE', 'ESTRATO_VIV', 'PER_UG', 'IPM_BAJO_LOGRO_ED',\n",
       "       'IPM_ANALFABET', 'IPM_INASISTENCIA_ESC', 'IPM_REZAGO_ESC', 'IPM_PI',\n",
       "       'IPM_TRABAJO_INFANTIL', 'IPM_ASEG_SALUD', 'IPM_ACCESO_SALUD',\n",
       "       'IPM_DESEMPLEO_LP', 'IPM_EMPLEO_FORMAL', 'IPM_AGUA', 'IPM_SAN_BASICO',\n",
       "       'IPM_PISOS', 'IPM_PAREDES', 'IPM_HACINAMIENTO', 'IPM',\n",
       "       'HOGAR_POBRE_IPM', 'ESTRATO_VIV_R', 'cuartiles_ingreso'],\n",
       "      dtype='object')"
      ]
     },
     "execution_count": 225,
     "metadata": {},
     "output_type": "execute_result"
    }
   ],
   "source": [
    "data.columns\n"
   ]
  },
  {
   "cell_type": "code",
   "execution_count": 226,
   "metadata": {},
   "outputs": [
    {
     "data": {
      "text/html": [
       "<div>\n",
       "<style scoped>\n",
       "    .dataframe tbody tr th:only-of-type {\n",
       "        vertical-align: middle;\n",
       "    }\n",
       "\n",
       "    .dataframe tbody tr th {\n",
       "        vertical-align: top;\n",
       "    }\n",
       "\n",
       "    .dataframe thead th {\n",
       "        text-align: right;\n",
       "    }\n",
       "</style>\n",
       "<table border=\"1\" class=\"dataframe\">\n",
       "  <thead>\n",
       "    <tr style=\"text-align: right;\">\n",
       "      <th></th>\n",
       "      <th>DIRECTORIO_HOG</th>\n",
       "      <th>ESTRATO_VIV</th>\n",
       "      <th>INGRESOS_HOG</th>\n",
       "      <th>cuartiles_ingreso</th>\n",
       "      <th>INGRESOS_PER_CAPITA</th>\n",
       "    </tr>\n",
       "  </thead>\n",
       "  <tbody>\n",
       "    <tr>\n",
       "      <th>0</th>\n",
       "      <td>1010001</td>\n",
       "      <td>2</td>\n",
       "      <td>1.702367e+07</td>\n",
       "      <td>4</td>\n",
       "      <td>5.674556e+06</td>\n",
       "    </tr>\n",
       "    <tr>\n",
       "      <th>1</th>\n",
       "      <td>1010011</td>\n",
       "      <td>3</td>\n",
       "      <td>3.372667e+06</td>\n",
       "      <td>3</td>\n",
       "      <td>8.431667e+05</td>\n",
       "    </tr>\n",
       "    <tr>\n",
       "      <th>2</th>\n",
       "      <td>1010021</td>\n",
       "      <td>3</td>\n",
       "      <td>2.225000e+06</td>\n",
       "      <td>3</td>\n",
       "      <td>1.112500e+06</td>\n",
       "    </tr>\n",
       "    <tr>\n",
       "      <th>3</th>\n",
       "      <td>1010031</td>\n",
       "      <td>3</td>\n",
       "      <td>3.620000e+06</td>\n",
       "      <td>3</td>\n",
       "      <td>1.206667e+06</td>\n",
       "    </tr>\n",
       "    <tr>\n",
       "      <th>4</th>\n",
       "      <td>1010041</td>\n",
       "      <td>6</td>\n",
       "      <td>4.166667e+03</td>\n",
       "      <td>1</td>\n",
       "      <td>4.166667e+03</td>\n",
       "    </tr>\n",
       "  </tbody>\n",
       "</table>\n",
       "</div>"
      ],
      "text/plain": [
       "   DIRECTORIO_HOG  ESTRATO_VIV  INGRESOS_HOG cuartiles_ingreso  \\\n",
       "0         1010001            2  1.702367e+07                 4   \n",
       "1         1010011            3  3.372667e+06                 3   \n",
       "2         1010021            3  2.225000e+06                 3   \n",
       "3         1010031            3  3.620000e+06                 3   \n",
       "4         1010041            6  4.166667e+03                 1   \n",
       "\n",
       "   INGRESOS_PER_CAPITA  \n",
       "0         5.674556e+06  \n",
       "1         8.431667e+05  \n",
       "2         1.112500e+06  \n",
       "3         1.206667e+06  \n",
       "4         4.166667e+03  "
      ]
     },
     "execution_count": 226,
     "metadata": {},
     "output_type": "execute_result"
    }
   ],
   "source": [
    "data2=data.filter(['DIRECTORIO_HOG', 'ESTRATO_VIV','INGRESOS_HOG','cuartiles_ingreso','INGRESOS_PER_CAPITA'])\n",
    "data2.head()"
   ]
  },
  {
   "cell_type": "markdown",
   "metadata": {},
   "source": [
    "# Renombrar variables"
   ]
  },
  {
   "cell_type": "markdown",
   "metadata": {},
   "source": [
    "Si se desea renombrar variables, puede utilizarse la función rename, por ejemplo suponga que se desea renombrar las varialbles de datos2 a id_hog, estrato, ingreso, clasifica_ingreso, ingreso_pc"
   ]
  },
  {
   "cell_type": "code",
   "execution_count": 227,
   "metadata": {},
   "outputs": [],
   "source": [
    "data2=data2.rename(columns={'DIRECTORIO_HOG': 'id_hog', 'ESTRATO_VIV': 'estrato', 'INGRESOS_HOG':'ingreso', 'cuartiles_ingreso':'clasifica_ingreso','INGRESOS_PER_CAPITA':'ingreso_pc'})"
   ]
  },
  {
   "cell_type": "code",
   "execution_count": 228,
   "metadata": {},
   "outputs": [
    {
     "data": {
      "text/html": [
       "<div>\n",
       "<style scoped>\n",
       "    .dataframe tbody tr th:only-of-type {\n",
       "        vertical-align: middle;\n",
       "    }\n",
       "\n",
       "    .dataframe tbody tr th {\n",
       "        vertical-align: top;\n",
       "    }\n",
       "\n",
       "    .dataframe thead th {\n",
       "        text-align: right;\n",
       "    }\n",
       "</style>\n",
       "<table border=\"1\" class=\"dataframe\">\n",
       "  <thead>\n",
       "    <tr style=\"text-align: right;\">\n",
       "      <th></th>\n",
       "      <th>id_hog</th>\n",
       "      <th>estrato</th>\n",
       "      <th>ingreso</th>\n",
       "      <th>clasifica_ingreso</th>\n",
       "      <th>ingreso_pc</th>\n",
       "    </tr>\n",
       "  </thead>\n",
       "  <tbody>\n",
       "    <tr>\n",
       "      <th>0</th>\n",
       "      <td>1010001</td>\n",
       "      <td>2</td>\n",
       "      <td>1.702367e+07</td>\n",
       "      <td>4</td>\n",
       "      <td>5.674556e+06</td>\n",
       "    </tr>\n",
       "    <tr>\n",
       "      <th>1</th>\n",
       "      <td>1010011</td>\n",
       "      <td>3</td>\n",
       "      <td>3.372667e+06</td>\n",
       "      <td>3</td>\n",
       "      <td>8.431667e+05</td>\n",
       "    </tr>\n",
       "    <tr>\n",
       "      <th>2</th>\n",
       "      <td>1010021</td>\n",
       "      <td>3</td>\n",
       "      <td>2.225000e+06</td>\n",
       "      <td>3</td>\n",
       "      <td>1.112500e+06</td>\n",
       "    </tr>\n",
       "    <tr>\n",
       "      <th>3</th>\n",
       "      <td>1010031</td>\n",
       "      <td>3</td>\n",
       "      <td>3.620000e+06</td>\n",
       "      <td>3</td>\n",
       "      <td>1.206667e+06</td>\n",
       "    </tr>\n",
       "    <tr>\n",
       "      <th>4</th>\n",
       "      <td>1010041</td>\n",
       "      <td>6</td>\n",
       "      <td>4.166667e+03</td>\n",
       "      <td>1</td>\n",
       "      <td>4.166667e+03</td>\n",
       "    </tr>\n",
       "  </tbody>\n",
       "</table>\n",
       "</div>"
      ],
      "text/plain": [
       "    id_hog  estrato       ingreso clasifica_ingreso    ingreso_pc\n",
       "0  1010001        2  1.702367e+07                 4  5.674556e+06\n",
       "1  1010011        3  3.372667e+06                 3  8.431667e+05\n",
       "2  1010021        3  2.225000e+06                 3  1.112500e+06\n",
       "3  1010031        3  3.620000e+06                 3  1.206667e+06\n",
       "4  1010041        6  4.166667e+03                 1  4.166667e+03"
      ]
     },
     "execution_count": 228,
     "metadata": {},
     "output_type": "execute_result"
    }
   ],
   "source": [
    "data2.head()"
   ]
  },
  {
   "cell_type": "markdown",
   "metadata": {},
   "source": [
    "# Construir nuevas variables"
   ]
  },
  {
   "cell_type": "markdown",
   "metadata": {},
   "source": [
    "Es posible construir nuevas variables, por ejemplo el logaritmo de los ingresos, se puede hacer operaciones entre variables, por ejemplo sumar para la variable PUNTAJE_TOTAL es la suma de varios puntajes: PUNTAJE_PISOS', 'PUNTAJE_PAREDES', 'PUNTAJE_SANITARIO', 'PUNTAJE_BASURAS', 'PUNTAJE_AGUA', 'PUNTAJE_COMBUSTIBLE',PUNTAJE_HACINAMIENTO', 'PUNTAJE_EDUC_JEFE', 'PUNTAJE_PROM_12', 'PUNTAJE_ASIS_5_11', 'PUNTAJE_ASIS_12_18', 'PUNTAJE_NIñOS_SEIS', TOTAL_PUNTAJE'.\n",
    "Se puede calcular el logaritmo del ingreso del hogar:\n",
    "       "
   ]
  },
  {
   "cell_type": "code",
   "execution_count": 229,
   "metadata": {},
   "outputs": [
    {
     "name": "stderr",
     "output_type": "stream",
     "text": [
      "C:\\Users\\Home\\Anaconda3\\lib\\site-packages\\ipykernel_launcher.py:1: RuntimeWarning: divide by zero encountered in log\n",
      "  \"\"\"Entry point for launching an IPython kernel.\n"
     ]
    },
    {
     "data": {
      "text/html": [
       "<div>\n",
       "<style scoped>\n",
       "    .dataframe tbody tr th:only-of-type {\n",
       "        vertical-align: middle;\n",
       "    }\n",
       "\n",
       "    .dataframe tbody tr th {\n",
       "        vertical-align: top;\n",
       "    }\n",
       "\n",
       "    .dataframe thead th {\n",
       "        text-align: right;\n",
       "    }\n",
       "</style>\n",
       "<table border=\"1\" class=\"dataframe\">\n",
       "  <thead>\n",
       "    <tr style=\"text-align: right;\">\n",
       "      <th></th>\n",
       "      <th>DIRECTORIO</th>\n",
       "      <th>FEX_C</th>\n",
       "      <th>DIRECTORIO_HOG</th>\n",
       "      <th>DIRECTORIO_PER</th>\n",
       "      <th>PUNTAJE_PISOS</th>\n",
       "      <th>PUNTAJE_PAREDES</th>\n",
       "      <th>PUNTAJE_SANITARIO</th>\n",
       "      <th>PUNTAJE_BASURAS</th>\n",
       "      <th>PUNTAJE_AGUA</th>\n",
       "      <th>PUNTAJE_COMBUSTIBLE</th>\n",
       "      <th>...</th>\n",
       "      <th>IPM_AGUA</th>\n",
       "      <th>IPM_SAN_BASICO</th>\n",
       "      <th>IPM_PISOS</th>\n",
       "      <th>IPM_PAREDES</th>\n",
       "      <th>IPM_HACINAMIENTO</th>\n",
       "      <th>IPM</th>\n",
       "      <th>HOGAR_POBRE_IPM</th>\n",
       "      <th>ESTRATO_VIV_R</th>\n",
       "      <th>cuartiles_ingreso</th>\n",
       "      <th>logingreso</th>\n",
       "    </tr>\n",
       "  </thead>\n",
       "  <tbody>\n",
       "    <tr>\n",
       "      <th>0</th>\n",
       "      <td>101000</td>\n",
       "      <td>16.604442</td>\n",
       "      <td>1010001</td>\n",
       "      <td>10100011</td>\n",
       "      <td>6.79</td>\n",
       "      <td>6.11</td>\n",
       "      <td>7.14</td>\n",
       "      <td>6.62</td>\n",
       "      <td>6.99</td>\n",
       "      <td>6.67</td>\n",
       "      <td>...</td>\n",
       "      <td>0</td>\n",
       "      <td>0</td>\n",
       "      <td>0</td>\n",
       "      <td>0</td>\n",
       "      <td>0</td>\n",
       "      <td>0.1</td>\n",
       "      <td>0</td>\n",
       "      <td>Bajo</td>\n",
       "      <td>4</td>\n",
       "      <td>16.650115</td>\n",
       "    </tr>\n",
       "    <tr>\n",
       "      <th>1</th>\n",
       "      <td>101001</td>\n",
       "      <td>26.046357</td>\n",
       "      <td>1010011</td>\n",
       "      <td>10100111</td>\n",
       "      <td>6.79</td>\n",
       "      <td>6.11</td>\n",
       "      <td>7.14</td>\n",
       "      <td>6.62</td>\n",
       "      <td>6.99</td>\n",
       "      <td>6.67</td>\n",
       "      <td>...</td>\n",
       "      <td>0</td>\n",
       "      <td>0</td>\n",
       "      <td>0</td>\n",
       "      <td>0</td>\n",
       "      <td>0</td>\n",
       "      <td>0.1</td>\n",
       "      <td>0</td>\n",
       "      <td>Medio</td>\n",
       "      <td>3</td>\n",
       "      <td>15.031214</td>\n",
       "    </tr>\n",
       "    <tr>\n",
       "      <th>2</th>\n",
       "      <td>101002</td>\n",
       "      <td>13.840826</td>\n",
       "      <td>1010021</td>\n",
       "      <td>10100211</td>\n",
       "      <td>6.79</td>\n",
       "      <td>6.11</td>\n",
       "      <td>7.14</td>\n",
       "      <td>6.62</td>\n",
       "      <td>6.99</td>\n",
       "      <td>6.67</td>\n",
       "      <td>...</td>\n",
       "      <td>0</td>\n",
       "      <td>0</td>\n",
       "      <td>0</td>\n",
       "      <td>0</td>\n",
       "      <td>0</td>\n",
       "      <td>0.0</td>\n",
       "      <td>0</td>\n",
       "      <td>Medio</td>\n",
       "      <td>3</td>\n",
       "      <td>14.615267</td>\n",
       "    </tr>\n",
       "    <tr>\n",
       "      <th>3</th>\n",
       "      <td>101003</td>\n",
       "      <td>7.011111</td>\n",
       "      <td>1010031</td>\n",
       "      <td>10100311</td>\n",
       "      <td>6.79</td>\n",
       "      <td>6.11</td>\n",
       "      <td>7.14</td>\n",
       "      <td>6.62</td>\n",
       "      <td>6.99</td>\n",
       "      <td>6.67</td>\n",
       "      <td>...</td>\n",
       "      <td>0</td>\n",
       "      <td>0</td>\n",
       "      <td>0</td>\n",
       "      <td>0</td>\n",
       "      <td>0</td>\n",
       "      <td>0.2</td>\n",
       "      <td>0</td>\n",
       "      <td>Medio</td>\n",
       "      <td>3</td>\n",
       "      <td>15.101985</td>\n",
       "    </tr>\n",
       "    <tr>\n",
       "      <th>4</th>\n",
       "      <td>101004</td>\n",
       "      <td>67.930390</td>\n",
       "      <td>1010041</td>\n",
       "      <td>10100411</td>\n",
       "      <td>6.79</td>\n",
       "      <td>6.11</td>\n",
       "      <td>7.14</td>\n",
       "      <td>6.62</td>\n",
       "      <td>6.99</td>\n",
       "      <td>0.00</td>\n",
       "      <td>...</td>\n",
       "      <td>0</td>\n",
       "      <td>0</td>\n",
       "      <td>0</td>\n",
       "      <td>0</td>\n",
       "      <td>0</td>\n",
       "      <td>0.2</td>\n",
       "      <td>0</td>\n",
       "      <td>Alto</td>\n",
       "      <td>1</td>\n",
       "      <td>8.334872</td>\n",
       "    </tr>\n",
       "  </tbody>\n",
       "</table>\n",
       "<p>5 rows × 43 columns</p>\n",
       "</div>"
      ],
      "text/plain": [
       "   DIRECTORIO      FEX_C  DIRECTORIO_HOG  DIRECTORIO_PER  PUNTAJE_PISOS  \\\n",
       "0      101000  16.604442         1010001        10100011           6.79   \n",
       "1      101001  26.046357         1010011        10100111           6.79   \n",
       "2      101002  13.840826         1010021        10100211           6.79   \n",
       "3      101003   7.011111         1010031        10100311           6.79   \n",
       "4      101004  67.930390         1010041        10100411           6.79   \n",
       "\n",
       "   PUNTAJE_PAREDES  PUNTAJE_SANITARIO  PUNTAJE_BASURAS  PUNTAJE_AGUA  \\\n",
       "0             6.11               7.14             6.62          6.99   \n",
       "1             6.11               7.14             6.62          6.99   \n",
       "2             6.11               7.14             6.62          6.99   \n",
       "3             6.11               7.14             6.62          6.99   \n",
       "4             6.11               7.14             6.62          6.99   \n",
       "\n",
       "   PUNTAJE_COMBUSTIBLE  ...  IPM_AGUA  IPM_SAN_BASICO  IPM_PISOS  IPM_PAREDES  \\\n",
       "0                 6.67  ...         0               0          0            0   \n",
       "1                 6.67  ...         0               0          0            0   \n",
       "2                 6.67  ...         0               0          0            0   \n",
       "3                 6.67  ...         0               0          0            0   \n",
       "4                 0.00  ...         0               0          0            0   \n",
       "\n",
       "   IPM_HACINAMIENTO  IPM  HOGAR_POBRE_IPM  ESTRATO_VIV_R  cuartiles_ingreso  \\\n",
       "0                 0  0.1                0           Bajo                  4   \n",
       "1                 0  0.1                0          Medio                  3   \n",
       "2                 0  0.0                0          Medio                  3   \n",
       "3                 0  0.2                0          Medio                  3   \n",
       "4                 0  0.2                0           Alto                  1   \n",
       "\n",
       "   logingreso  \n",
       "0   16.650115  \n",
       "1   15.031214  \n",
       "2   14.615267  \n",
       "3   15.101985  \n",
       "4    8.334872  \n",
       "\n",
       "[5 rows x 43 columns]"
      ]
     },
     "execution_count": 229,
     "metadata": {},
     "output_type": "execute_result"
    }
   ],
   "source": [
    "data = data.assign(logingreso=np.log(data['INGRESOS_HOG']))\n",
    "data.head()"
   ]
  },
  {
   "cell_type": "markdown",
   "metadata": {},
   "source": [
    "Para hacer el código más sucinto:\n"
   ]
  },
  {
   "cell_type": "code",
   "execution_count": 230,
   "metadata": {},
   "outputs": [
    {
     "data": {
      "text/html": [
       "<div>\n",
       "<style scoped>\n",
       "    .dataframe tbody tr th:only-of-type {\n",
       "        vertical-align: middle;\n",
       "    }\n",
       "\n",
       "    .dataframe tbody tr th {\n",
       "        vertical-align: top;\n",
       "    }\n",
       "\n",
       "    .dataframe thead th {\n",
       "        text-align: right;\n",
       "    }\n",
       "</style>\n",
       "<table border=\"1\" class=\"dataframe\">\n",
       "  <thead>\n",
       "    <tr style=\"text-align: right;\">\n",
       "      <th></th>\n",
       "      <th>DIRECTORIO</th>\n",
       "      <th>FEX_C</th>\n",
       "      <th>DIRECTORIO_HOG</th>\n",
       "      <th>DIRECTORIO_PER</th>\n",
       "      <th>PUNTAJE_PISOS</th>\n",
       "      <th>PUNTAJE_PAREDES</th>\n",
       "      <th>PUNTAJE_SANITARIO</th>\n",
       "      <th>PUNTAJE_BASURAS</th>\n",
       "      <th>PUNTAJE_AGUA</th>\n",
       "      <th>PUNTAJE_COMBUSTIBLE</th>\n",
       "      <th>...</th>\n",
       "      <th>IPM_EMPLEO_FORMAL</th>\n",
       "      <th>IPM_AGUA</th>\n",
       "      <th>IPM_SAN_BASICO</th>\n",
       "      <th>IPM_PISOS</th>\n",
       "      <th>IPM_PAREDES</th>\n",
       "      <th>IPM_HACINAMIENTO</th>\n",
       "      <th>IPM</th>\n",
       "      <th>HOGAR_POBRE_IPM</th>\n",
       "      <th>ESTRATO_VIV_R</th>\n",
       "      <th>cuartiles_ingreso</th>\n",
       "    </tr>\n",
       "  </thead>\n",
       "  <tbody>\n",
       "    <tr>\n",
       "      <th>0</th>\n",
       "      <td>101000</td>\n",
       "      <td>16.604442</td>\n",
       "      <td>1010001</td>\n",
       "      <td>10100011</td>\n",
       "      <td>6.79</td>\n",
       "      <td>6.11</td>\n",
       "      <td>7.14</td>\n",
       "      <td>6.62</td>\n",
       "      <td>6.99</td>\n",
       "      <td>6.67</td>\n",
       "      <td>...</td>\n",
       "      <td>1</td>\n",
       "      <td>0</td>\n",
       "      <td>0</td>\n",
       "      <td>0</td>\n",
       "      <td>0</td>\n",
       "      <td>0</td>\n",
       "      <td>0.1</td>\n",
       "      <td>0</td>\n",
       "      <td>Bajo</td>\n",
       "      <td>4</td>\n",
       "    </tr>\n",
       "    <tr>\n",
       "      <th>1</th>\n",
       "      <td>101001</td>\n",
       "      <td>26.046357</td>\n",
       "      <td>1010011</td>\n",
       "      <td>10100111</td>\n",
       "      <td>6.79</td>\n",
       "      <td>6.11</td>\n",
       "      <td>7.14</td>\n",
       "      <td>6.62</td>\n",
       "      <td>6.99</td>\n",
       "      <td>6.67</td>\n",
       "      <td>...</td>\n",
       "      <td>0</td>\n",
       "      <td>0</td>\n",
       "      <td>0</td>\n",
       "      <td>0</td>\n",
       "      <td>0</td>\n",
       "      <td>0</td>\n",
       "      <td>0.1</td>\n",
       "      <td>0</td>\n",
       "      <td>Medio</td>\n",
       "      <td>3</td>\n",
       "    </tr>\n",
       "    <tr>\n",
       "      <th>2</th>\n",
       "      <td>101002</td>\n",
       "      <td>13.840826</td>\n",
       "      <td>1010021</td>\n",
       "      <td>10100211</td>\n",
       "      <td>6.79</td>\n",
       "      <td>6.11</td>\n",
       "      <td>7.14</td>\n",
       "      <td>6.62</td>\n",
       "      <td>6.99</td>\n",
       "      <td>6.67</td>\n",
       "      <td>...</td>\n",
       "      <td>0</td>\n",
       "      <td>0</td>\n",
       "      <td>0</td>\n",
       "      <td>0</td>\n",
       "      <td>0</td>\n",
       "      <td>0</td>\n",
       "      <td>0.0</td>\n",
       "      <td>0</td>\n",
       "      <td>Medio</td>\n",
       "      <td>3</td>\n",
       "    </tr>\n",
       "    <tr>\n",
       "      <th>3</th>\n",
       "      <td>101003</td>\n",
       "      <td>7.011111</td>\n",
       "      <td>1010031</td>\n",
       "      <td>10100311</td>\n",
       "      <td>6.79</td>\n",
       "      <td>6.11</td>\n",
       "      <td>7.14</td>\n",
       "      <td>6.62</td>\n",
       "      <td>6.99</td>\n",
       "      <td>6.67</td>\n",
       "      <td>...</td>\n",
       "      <td>1</td>\n",
       "      <td>0</td>\n",
       "      <td>0</td>\n",
       "      <td>0</td>\n",
       "      <td>0</td>\n",
       "      <td>0</td>\n",
       "      <td>0.2</td>\n",
       "      <td>0</td>\n",
       "      <td>Medio</td>\n",
       "      <td>3</td>\n",
       "    </tr>\n",
       "    <tr>\n",
       "      <th>4</th>\n",
       "      <td>101004</td>\n",
       "      <td>67.930390</td>\n",
       "      <td>1010041</td>\n",
       "      <td>10100411</td>\n",
       "      <td>6.79</td>\n",
       "      <td>6.11</td>\n",
       "      <td>7.14</td>\n",
       "      <td>6.62</td>\n",
       "      <td>6.99</td>\n",
       "      <td>0.00</td>\n",
       "      <td>...</td>\n",
       "      <td>1</td>\n",
       "      <td>0</td>\n",
       "      <td>0</td>\n",
       "      <td>0</td>\n",
       "      <td>0</td>\n",
       "      <td>0</td>\n",
       "      <td>0.2</td>\n",
       "      <td>0</td>\n",
       "      <td>Alto</td>\n",
       "      <td>1</td>\n",
       "    </tr>\n",
       "  </tbody>\n",
       "</table>\n",
       "<p>5 rows × 42 columns</p>\n",
       "</div>"
      ],
      "text/plain": [
       "   DIRECTORIO      FEX_C  DIRECTORIO_HOG  DIRECTORIO_PER  PUNTAJE_PISOS  \\\n",
       "0      101000  16.604442         1010001        10100011           6.79   \n",
       "1      101001  26.046357         1010011        10100111           6.79   \n",
       "2      101002  13.840826         1010021        10100211           6.79   \n",
       "3      101003   7.011111         1010031        10100311           6.79   \n",
       "4      101004  67.930390         1010041        10100411           6.79   \n",
       "\n",
       "   PUNTAJE_PAREDES  PUNTAJE_SANITARIO  PUNTAJE_BASURAS  PUNTAJE_AGUA  \\\n",
       "0             6.11               7.14             6.62          6.99   \n",
       "1             6.11               7.14             6.62          6.99   \n",
       "2             6.11               7.14             6.62          6.99   \n",
       "3             6.11               7.14             6.62          6.99   \n",
       "4             6.11               7.14             6.62          6.99   \n",
       "\n",
       "   PUNTAJE_COMBUSTIBLE  ...  IPM_EMPLEO_FORMAL  IPM_AGUA  IPM_SAN_BASICO  \\\n",
       "0                 6.67  ...                  1         0               0   \n",
       "1                 6.67  ...                  0         0               0   \n",
       "2                 6.67  ...                  0         0               0   \n",
       "3                 6.67  ...                  1         0               0   \n",
       "4                 0.00  ...                  1         0               0   \n",
       "\n",
       "   IPM_PISOS  IPM_PAREDES  IPM_HACINAMIENTO  IPM  HOGAR_POBRE_IPM  \\\n",
       "0          0            0                 0  0.1                0   \n",
       "1          0            0                 0  0.1                0   \n",
       "2          0            0                 0  0.0                0   \n",
       "3          0            0                 0  0.2                0   \n",
       "4          0            0                 0  0.2                0   \n",
       "\n",
       "   ESTRATO_VIV_R  cuartiles_ingreso  \n",
       "0           Bajo                  4  \n",
       "1          Medio                  3  \n",
       "2          Medio                  3  \n",
       "3          Medio                  3  \n",
       "4           Alto                  1  \n",
       "\n",
       "[5 rows x 42 columns]"
      ]
     },
     "execution_count": 230,
     "metadata": {},
     "output_type": "execute_result"
    }
   ],
   "source": [
    "data.drop(columns=['logingreso'],inplace=True) # Borro el logaritmo del ingreso\n",
    "data.head()"
   ]
  },
  {
   "cell_type": "code",
   "execution_count": 231,
   "metadata": {},
   "outputs": [
    {
     "name": "stderr",
     "output_type": "stream",
     "text": [
      "C:\\Users\\Home\\Anaconda3\\lib\\site-packages\\ipykernel_launcher.py:1: RuntimeWarning: divide by zero encountered in log\n",
      "  \"\"\"Entry point for launching an IPython kernel.\n",
      "C:\\Users\\Home\\Anaconda3\\lib\\site-packages\\ipykernel_launcher.py:2: RuntimeWarning: divide by zero encountered in log\n",
      "  \n"
     ]
    },
    {
     "data": {
      "text/html": [
       "<div>\n",
       "<style scoped>\n",
       "    .dataframe tbody tr th:only-of-type {\n",
       "        vertical-align: middle;\n",
       "    }\n",
       "\n",
       "    .dataframe tbody tr th {\n",
       "        vertical-align: top;\n",
       "    }\n",
       "\n",
       "    .dataframe thead th {\n",
       "        text-align: right;\n",
       "    }\n",
       "</style>\n",
       "<table border=\"1\" class=\"dataframe\">\n",
       "  <thead>\n",
       "    <tr style=\"text-align: right;\">\n",
       "      <th></th>\n",
       "      <th>DIRECTORIO</th>\n",
       "      <th>FEX_C</th>\n",
       "      <th>DIRECTORIO_HOG</th>\n",
       "      <th>DIRECTORIO_PER</th>\n",
       "      <th>PUNTAJE_PISOS</th>\n",
       "      <th>PUNTAJE_PAREDES</th>\n",
       "      <th>PUNTAJE_SANITARIO</th>\n",
       "      <th>PUNTAJE_BASURAS</th>\n",
       "      <th>PUNTAJE_AGUA</th>\n",
       "      <th>PUNTAJE_COMBUSTIBLE</th>\n",
       "      <th>...</th>\n",
       "      <th>IPM_AGUA</th>\n",
       "      <th>IPM_SAN_BASICO</th>\n",
       "      <th>IPM_PISOS</th>\n",
       "      <th>IPM_PAREDES</th>\n",
       "      <th>IPM_HACINAMIENTO</th>\n",
       "      <th>IPM</th>\n",
       "      <th>HOGAR_POBRE_IPM</th>\n",
       "      <th>ESTRATO_VIV_R</th>\n",
       "      <th>cuartiles_ingreso</th>\n",
       "      <th>logingreso</th>\n",
       "    </tr>\n",
       "  </thead>\n",
       "  <tbody>\n",
       "    <tr>\n",
       "      <th>0</th>\n",
       "      <td>101000</td>\n",
       "      <td>16.604442</td>\n",
       "      <td>1010001</td>\n",
       "      <td>10100011</td>\n",
       "      <td>6.79</td>\n",
       "      <td>6.11</td>\n",
       "      <td>7.14</td>\n",
       "      <td>6.62</td>\n",
       "      <td>6.99</td>\n",
       "      <td>6.67</td>\n",
       "      <td>...</td>\n",
       "      <td>0</td>\n",
       "      <td>0</td>\n",
       "      <td>0</td>\n",
       "      <td>0</td>\n",
       "      <td>0</td>\n",
       "      <td>0.1</td>\n",
       "      <td>0</td>\n",
       "      <td>Bajo</td>\n",
       "      <td>4</td>\n",
       "      <td>16.650115</td>\n",
       "    </tr>\n",
       "    <tr>\n",
       "      <th>1</th>\n",
       "      <td>101001</td>\n",
       "      <td>26.046357</td>\n",
       "      <td>1010011</td>\n",
       "      <td>10100111</td>\n",
       "      <td>6.79</td>\n",
       "      <td>6.11</td>\n",
       "      <td>7.14</td>\n",
       "      <td>6.62</td>\n",
       "      <td>6.99</td>\n",
       "      <td>6.67</td>\n",
       "      <td>...</td>\n",
       "      <td>0</td>\n",
       "      <td>0</td>\n",
       "      <td>0</td>\n",
       "      <td>0</td>\n",
       "      <td>0</td>\n",
       "      <td>0.1</td>\n",
       "      <td>0</td>\n",
       "      <td>Medio</td>\n",
       "      <td>3</td>\n",
       "      <td>15.031214</td>\n",
       "    </tr>\n",
       "    <tr>\n",
       "      <th>2</th>\n",
       "      <td>101002</td>\n",
       "      <td>13.840826</td>\n",
       "      <td>1010021</td>\n",
       "      <td>10100211</td>\n",
       "      <td>6.79</td>\n",
       "      <td>6.11</td>\n",
       "      <td>7.14</td>\n",
       "      <td>6.62</td>\n",
       "      <td>6.99</td>\n",
       "      <td>6.67</td>\n",
       "      <td>...</td>\n",
       "      <td>0</td>\n",
       "      <td>0</td>\n",
       "      <td>0</td>\n",
       "      <td>0</td>\n",
       "      <td>0</td>\n",
       "      <td>0.0</td>\n",
       "      <td>0</td>\n",
       "      <td>Medio</td>\n",
       "      <td>3</td>\n",
       "      <td>14.615267</td>\n",
       "    </tr>\n",
       "    <tr>\n",
       "      <th>3</th>\n",
       "      <td>101003</td>\n",
       "      <td>7.011111</td>\n",
       "      <td>1010031</td>\n",
       "      <td>10100311</td>\n",
       "      <td>6.79</td>\n",
       "      <td>6.11</td>\n",
       "      <td>7.14</td>\n",
       "      <td>6.62</td>\n",
       "      <td>6.99</td>\n",
       "      <td>6.67</td>\n",
       "      <td>...</td>\n",
       "      <td>0</td>\n",
       "      <td>0</td>\n",
       "      <td>0</td>\n",
       "      <td>0</td>\n",
       "      <td>0</td>\n",
       "      <td>0.2</td>\n",
       "      <td>0</td>\n",
       "      <td>Medio</td>\n",
       "      <td>3</td>\n",
       "      <td>15.101985</td>\n",
       "    </tr>\n",
       "    <tr>\n",
       "      <th>4</th>\n",
       "      <td>101004</td>\n",
       "      <td>67.930390</td>\n",
       "      <td>1010041</td>\n",
       "      <td>10100411</td>\n",
       "      <td>6.79</td>\n",
       "      <td>6.11</td>\n",
       "      <td>7.14</td>\n",
       "      <td>6.62</td>\n",
       "      <td>6.99</td>\n",
       "      <td>0.00</td>\n",
       "      <td>...</td>\n",
       "      <td>0</td>\n",
       "      <td>0</td>\n",
       "      <td>0</td>\n",
       "      <td>0</td>\n",
       "      <td>0</td>\n",
       "      <td>0.2</td>\n",
       "      <td>0</td>\n",
       "      <td>Alto</td>\n",
       "      <td>1</td>\n",
       "      <td>8.334872</td>\n",
       "    </tr>\n",
       "  </tbody>\n",
       "</table>\n",
       "<p>5 rows × 43 columns</p>\n",
       "</div>"
      ],
      "text/plain": [
       "   DIRECTORIO      FEX_C  DIRECTORIO_HOG  DIRECTORIO_PER  PUNTAJE_PISOS  \\\n",
       "0      101000  16.604442         1010001        10100011           6.79   \n",
       "1      101001  26.046357         1010011        10100111           6.79   \n",
       "2      101002  13.840826         1010021        10100211           6.79   \n",
       "3      101003   7.011111         1010031        10100311           6.79   \n",
       "4      101004  67.930390         1010041        10100411           6.79   \n",
       "\n",
       "   PUNTAJE_PAREDES  PUNTAJE_SANITARIO  PUNTAJE_BASURAS  PUNTAJE_AGUA  \\\n",
       "0             6.11               7.14             6.62          6.99   \n",
       "1             6.11               7.14             6.62          6.99   \n",
       "2             6.11               7.14             6.62          6.99   \n",
       "3             6.11               7.14             6.62          6.99   \n",
       "4             6.11               7.14             6.62          6.99   \n",
       "\n",
       "   PUNTAJE_COMBUSTIBLE  ...  IPM_AGUA  IPM_SAN_BASICO  IPM_PISOS  IPM_PAREDES  \\\n",
       "0                 6.67  ...         0               0          0            0   \n",
       "1                 6.67  ...         0               0          0            0   \n",
       "2                 6.67  ...         0               0          0            0   \n",
       "3                 6.67  ...         0               0          0            0   \n",
       "4                 0.00  ...         0               0          0            0   \n",
       "\n",
       "   IPM_HACINAMIENTO  IPM  HOGAR_POBRE_IPM  ESTRATO_VIV_R  cuartiles_ingreso  \\\n",
       "0                 0  0.1                0           Bajo                  4   \n",
       "1                 0  0.1                0          Medio                  3   \n",
       "2                 0  0.0                0          Medio                  3   \n",
       "3                 0  0.2                0          Medio                  3   \n",
       "4                 0  0.2                0           Alto                  1   \n",
       "\n",
       "   logingreso  \n",
       "0   16.650115  \n",
       "1   15.031214  \n",
       "2   14.615267  \n",
       "3   15.101985  \n",
       "4    8.334872  \n",
       "\n",
       "[5 rows x 43 columns]"
      ]
     },
     "execution_count": 231,
     "metadata": {},
     "output_type": "execute_result"
    }
   ],
   "source": [
    "data = data.assign(logingreso=np.log(data['INGRESOS_HOG']))\n",
    "data = data.assign(logingreso=lambda x: np.log(x.INGRESOS_HOG))\n",
    "data.head()"
   ]
  },
  {
   "cell_type": "markdown",
   "metadata": {},
   "source": [
    "Se puede al mismo tiempo realizar la creación de las dos variables, ejercicio!!"
   ]
  },
  {
   "cell_type": "markdown",
   "metadata": {},
   "source": [
    "# Ordenar por variables"
   ]
  },
  {
   "cell_type": "markdown",
   "metadata": {},
   "source": [
    "Organizar por estrato y la clasificación de gasto:"
   ]
  },
  {
   "cell_type": "code",
   "execution_count": 232,
   "metadata": {},
   "outputs": [
    {
     "data": {
      "text/html": [
       "<div>\n",
       "<style scoped>\n",
       "    .dataframe tbody tr th:only-of-type {\n",
       "        vertical-align: middle;\n",
       "    }\n",
       "\n",
       "    .dataframe tbody tr th {\n",
       "        vertical-align: top;\n",
       "    }\n",
       "\n",
       "    .dataframe thead th {\n",
       "        text-align: right;\n",
       "    }\n",
       "</style>\n",
       "<table border=\"1\" class=\"dataframe\">\n",
       "  <thead>\n",
       "    <tr style=\"text-align: right;\">\n",
       "      <th></th>\n",
       "      <th>id_hog</th>\n",
       "      <th>estrato</th>\n",
       "      <th>ingreso</th>\n",
       "      <th>clasifica_ingreso</th>\n",
       "      <th>ingreso_pc</th>\n",
       "    </tr>\n",
       "  </thead>\n",
       "  <tbody>\n",
       "    <tr>\n",
       "      <th>5</th>\n",
       "      <td>1010051</td>\n",
       "      <td>6</td>\n",
       "      <td>6233333.0</td>\n",
       "      <td>4</td>\n",
       "      <td>6233333.0</td>\n",
       "    </tr>\n",
       "    <tr>\n",
       "      <th>71</th>\n",
       "      <td>1010711</td>\n",
       "      <td>6</td>\n",
       "      <td>15000000.0</td>\n",
       "      <td>4</td>\n",
       "      <td>15000000.0</td>\n",
       "    </tr>\n",
       "    <tr>\n",
       "      <th>72</th>\n",
       "      <td>1010721</td>\n",
       "      <td>6</td>\n",
       "      <td>2500000.0</td>\n",
       "      <td>4</td>\n",
       "      <td>2500000.0</td>\n",
       "    </tr>\n",
       "    <tr>\n",
       "      <th>74</th>\n",
       "      <td>1010741</td>\n",
       "      <td>6</td>\n",
       "      <td>8400000.0</td>\n",
       "      <td>4</td>\n",
       "      <td>4200000.0</td>\n",
       "    </tr>\n",
       "    <tr>\n",
       "      <th>75</th>\n",
       "      <td>1010751</td>\n",
       "      <td>6</td>\n",
       "      <td>13866666.0</td>\n",
       "      <td>4</td>\n",
       "      <td>4622222.0</td>\n",
       "    </tr>\n",
       "  </tbody>\n",
       "</table>\n",
       "</div>"
      ],
      "text/plain": [
       "     id_hog  estrato     ingreso clasifica_ingreso  ingreso_pc\n",
       "5   1010051        6   6233333.0                 4   6233333.0\n",
       "71  1010711        6  15000000.0                 4  15000000.0\n",
       "72  1010721        6   2500000.0                 4   2500000.0\n",
       "74  1010741        6   8400000.0                 4   4200000.0\n",
       "75  1010751        6  13866666.0                 4   4622222.0"
      ]
     },
     "execution_count": 232,
     "metadata": {},
     "output_type": "execute_result"
    }
   ],
   "source": [
    "prueba = data2.sort_values(by=['estrato', 'clasifica_ingreso'], ascending=False)\n",
    "prueba.head()"
   ]
  },
  {
   "cell_type": "markdown",
   "metadata": {},
   "source": [
    "Si se quiere organizar por dos columnas"
   ]
  },
  {
   "cell_type": "code",
   "execution_count": 233,
   "metadata": {},
   "outputs": [
    {
     "data": {
      "text/html": [
       "<div>\n",
       "<style scoped>\n",
       "    .dataframe tbody tr th:only-of-type {\n",
       "        vertical-align: middle;\n",
       "    }\n",
       "\n",
       "    .dataframe tbody tr th {\n",
       "        vertical-align: top;\n",
       "    }\n",
       "\n",
       "    .dataframe thead th {\n",
       "        text-align: right;\n",
       "    }\n",
       "</style>\n",
       "<table border=\"1\" class=\"dataframe\">\n",
       "  <thead>\n",
       "    <tr style=\"text-align: right;\">\n",
       "      <th></th>\n",
       "      <th>id_hog</th>\n",
       "      <th>estrato</th>\n",
       "      <th>ingreso</th>\n",
       "      <th>clasifica_ingreso</th>\n",
       "      <th>ingreso_pc</th>\n",
       "    </tr>\n",
       "  </thead>\n",
       "  <tbody>\n",
       "    <tr>\n",
       "      <th>4</th>\n",
       "      <td>1010041</td>\n",
       "      <td>6</td>\n",
       "      <td>4.166667e+03</td>\n",
       "      <td>1</td>\n",
       "      <td>4166.6665</td>\n",
       "    </tr>\n",
       "    <tr>\n",
       "      <th>73</th>\n",
       "      <td>1010731</td>\n",
       "      <td>6</td>\n",
       "      <td>0.000000e+00</td>\n",
       "      <td>1</td>\n",
       "      <td>0.0000</td>\n",
       "    </tr>\n",
       "    <tr>\n",
       "      <th>7078</th>\n",
       "      <td>1116561</td>\n",
       "      <td>6</td>\n",
       "      <td>0.000000e+00</td>\n",
       "      <td>1</td>\n",
       "      <td>0.0000</td>\n",
       "    </tr>\n",
       "    <tr>\n",
       "      <th>7084</th>\n",
       "      <td>1116611</td>\n",
       "      <td>6</td>\n",
       "      <td>1.237500e+06</td>\n",
       "      <td>1</td>\n",
       "      <td>247500.0000</td>\n",
       "    </tr>\n",
       "    <tr>\n",
       "      <th>8757</th>\n",
       "      <td>1221641</td>\n",
       "      <td>6</td>\n",
       "      <td>9.295000e+05</td>\n",
       "      <td>1</td>\n",
       "      <td>232375.0000</td>\n",
       "    </tr>\n",
       "  </tbody>\n",
       "</table>\n",
       "</div>"
      ],
      "text/plain": [
       "       id_hog  estrato       ingreso clasifica_ingreso   ingreso_pc\n",
       "4     1010041        6  4.166667e+03                 1    4166.6665\n",
       "73    1010731        6  0.000000e+00                 1       0.0000\n",
       "7078  1116561        6  0.000000e+00                 1       0.0000\n",
       "7084  1116611        6  1.237500e+06                 1  247500.0000\n",
       "8757  1221641        6  9.295000e+05                 1  232375.0000"
      ]
     },
     "execution_count": 233,
     "metadata": {},
     "output_type": "execute_result"
    }
   ],
   "source": [
    "prueba = data2.sort_values(by=['estrato', 'clasifica_ingreso'], ascending=[False,True])\n",
    "prueba.head()"
   ]
  },
  {
   "cell_type": "markdown",
   "metadata": {},
   "source": [
    "# Agregaciones básicas"
   ]
  },
  {
   "cell_type": "code",
   "execution_count": 234,
   "metadata": {},
   "outputs": [
    {
     "ename": "SyntaxError",
     "evalue": "invalid syntax (<ipython-input-234-9196a56ea19f>, line 1)",
     "output_type": "error",
     "traceback": [
      "\u001b[1;36m  File \u001b[1;32m\"<ipython-input-234-9196a56ea19f>\"\u001b[1;36m, line \u001b[1;32m1\u001b[0m\n\u001b[1;33m    Una agregación consiste en sacar una estadística resumen (un total, un promedio, un coteo, etc)\u001b[0m\n\u001b[1;37m                 ^\u001b[0m\n\u001b[1;31mSyntaxError\u001b[0m\u001b[1;31m:\u001b[0m invalid syntax\n"
     ]
    }
   ],
   "source": [
    "Una agregación consiste en sacar una estadística resumen (un total, un promedio, un coteo, etc)"
   ]
  },
  {
   "cell_type": "code",
   "execution_count": null,
   "metadata": {},
   "outputs": [],
   "source": [
    "p90 = data['INGRESOS_HOG'].quantile(0.9)\n",
    "p90"
   ]
  },
  {
   "cell_type": "code",
   "execution_count": null,
   "metadata": {},
   "outputs": [],
   "source": [
    "data[['INGRESOS_HOG']].mean()"
   ]
  },
  {
   "cell_type": "markdown",
   "metadata": {},
   "source": [
    "Ahora suponga que se quiere calcular varias estadísticas y colocarlas en un pandas dataframe"
   ]
  },
  {
   "cell_type": "code",
   "execution_count": null,
   "metadata": {},
   "outputs": [],
   "source": [
    "stats=pd.DataFrame()\n",
    "stats[\"N\"]=data[['INGRESOS_HOG']].count() # Importante subindizarlo\n",
    "stats[\"min\"]=data[['INGRESOS_HOG']].mean()\n",
    "stats[\"mean\"]=data[['INGRESOS_HOG']].mean()\n",
    "stats[\"Std.Dev\"]=data[['INGRESOS_HOG']].std()\n",
    "stats[\"Var\"]=data[['INGRESOS_HOG']].var()\n",
    "stats[\"max\"]=data[['INGRESOS_HOG']].max()\n",
    "stats"
   ]
  },
  {
   "cell_type": "code",
   "execution_count": null,
   "metadata": {},
   "outputs": [],
   "source": [
    "Se pueden cosntruir funciones personalizadas, para aplicarlas se puede utilizar la función apply que genera estadísticas por columnas (por defecto) o por filas"
   ]
  },
  {
   "cell_type": "code",
   "execution_count": null,
   "metadata": {},
   "outputs": [],
   "source": [
    "def cv(x):\n",
    "    return np.std(x) / np.mean(x)\n",
    "\n",
    "data[['INGRESOS_HOG','INGRESOS_PER_CAPITA']].apply(cv)"
   ]
  },
  {
   "cell_type": "code",
   "execution_count": null,
   "metadata": {},
   "outputs": [],
   "source": [
    "stats=pd.DataFrame()\n",
    "stats[\"N\"]=data[['INGRESOS_HOG']].count() # Importante subindizarlo\n",
    "stats['min']=data[['INGRESOS_HOG']].mean()\n",
    "stats['mean']=data[['INGRESOS_HOG']].mean()\n",
    "stats['Std.Dev']=data[['INGRESOS_HOG']].std()\n",
    "stats['cv']=data[['INGRESOS_HOG']].apply(cv)\n",
    "stats['max']=data[['INGRESOS_HOG']].max()\n",
    "stats\n",
    "stats.reset_index()"
   ]
  },
  {
   "cell_type": "markdown",
   "metadata": {},
   "source": [
    "Si se requiriera aplicar esas funciones para varias columnas: "
   ]
  },
  {
   "cell_type": "code",
   "execution_count": null,
   "metadata": {},
   "outputs": [],
   "source": [
    "stats=pd.DataFrame()\n",
    "stats[\"N\"]=data[['INGRESOS_HOG','INGRESOS_PER_CAPITA']].count() # Importante subindizarlo\n",
    "stats['mean']=data[['INGRESOS_HOG','INGRESOS_PER_CAPITA']].mean()\n",
    "stats['Std.Dev']=data[['INGRESOS_HOG','INGRESOS_PER_CAPITA']].std()\n",
    "stats['cv']=data[['INGRESOS_HOG','INGRESOS_PER_CAPITA']].apply(cv)\n",
    "stats['max']=data[['INGRESOS_HOG','INGRESOS_PER_CAPITA']].max()\n",
    "stats"
   ]
  },
  {
   "cell_type": "code",
   "execution_count": null,
   "metadata": {},
   "outputs": [],
   "source": [
    "type(data[['INGRESOS_HOG','INGRESOS_PER_CAPITA']].apply(cv))"
   ]
  },
  {
   "cell_type": "code",
   "execution_count": null,
   "metadata": {},
   "outputs": [],
   "source": [
    "df = pd.DataFrame(\n",
    "{'v1': [1, 3, 5, 7, 8, 3, 5, np.nan, 4, 5, 7, 9],\n",
    " 'v2': [11, 33, 55, 77, 88, 33, 55, np.nan, 44, 55, 77, 99],\n",
    " 'grupo1': [\"red\", \"blue\", 1, 2, np.nan, \"big\", 1, 2, \"red\", 1, np.nan, 12],\n",
    " 'grupo2': [\"wet\", \"dry\", 99, 95, np.nan, \"damp\", 95, 99, \"red\", 99, np.nan,\n",
    "                 np.nan]})\n",
    "df"
   ]
  },
  {
   "cell_type": "code",
   "execution_count": null,
   "metadata": {},
   "outputs": [],
   "source": [
    "df.groupby(['grupo1', 'grupo2'], as_index=False)[['v1', 'v2']].mean()  \n"
   ]
  },
  {
   "cell_type": "markdown",
   "metadata": {},
   "source": [
    "En principio la función agg permite definer cualquier función de interés:"
   ]
  },
  {
   "cell_type": "code",
   "execution_count": null,
   "metadata": {},
   "outputs": [],
   "source": [
    "df = pd.DataFrame({'A':[1,1,2,2],'B':[1,2,1,2],'values':np.arange(10,30,5)})\n",
    "df.groupby('A').agg(np.std, ddof=0)\n",
    "df.groupby('A')['values'].agg(np.std, ddof=0)"
   ]
  },
  {
   "cell_type": "markdown",
   "metadata": {},
   "source": [
    "Para estimar el coeficiente de variación del ingreso por ejemplo por estrato"
   ]
  },
  {
   "cell_type": "code",
   "execution_count": null,
   "metadata": {},
   "outputs": [],
   "source": [
    "data.groupby(['ESTRATO_VIV'])['INGRESOS_HOG', 'INGRESOS_PER_CAPITA'].std() / data.groupby(['ESTRATO_VIV'])['INGRESOS_HOG', 'INGRESOS_PER_CAPITA'].mean()\n"
   ]
  },
  {
   "cell_type": "code",
   "execution_count": null,
   "metadata": {},
   "outputs": [],
   "source": [
    "data.groupby('ESTRATO_VIV')['INGRESOS_PER_CAPITA'].aggregate([np.mean, np.median, np.std, st.skew ])\n"
   ]
  },
  {
   "cell_type": "code",
   "execution_count": null,
   "metadata": {},
   "outputs": [],
   "source": [
    "data.groupby('ESTRATO_VIV', as_index=False)['INGRESOS_PER_CAPITA'].agg([np.mean, np.median, np.std, st.skew ])\n"
   ]
  },
  {
   "cell_type": "markdown",
   "metadata": {},
   "source": [
    "Otra funcionalidad de pandas es pasar un diccionario que relacione las columnas a las operaciones aplicadas a dichas columnas"
   ]
  },
  {
   "cell_type": "code",
   "execution_count": null,
   "metadata": {},
   "outputs": [],
   "source": [
    "data.groupby('ESTRATO_VIV').agg({'INGRESOS_PER_CAPITA': 'mean', 'INGRESOS_HOG': 'mean'})"
   ]
  },
  {
   "cell_type": "markdown",
   "metadata": {},
   "source": [
    "Se pueden crear varias funciones personalizadas para aplicar en las agregaciones:"
   ]
  },
  {
   "cell_type": "code",
   "execution_count": null,
   "metadata": {},
   "outputs": [],
   "source": [
    "def cv(x):\n",
    "    return np.std(x) / np.mean(x)\n",
    "\n",
    "data.groupby('ESTRATO_VIV', as_index=False).agg({'INGRESOS_PER_CAPITA': ['mean', cv], 'INGRESOS_HOG':  ['mean', cv]})"
   ]
  },
  {
   "cell_type": "code",
   "execution_count": null,
   "metadata": {},
   "outputs": [],
   "source": [
    "data.groupby('ESTRATO_VIV').agg({'INGRESOS_PER_CAPITA': ['mean', cv], 'INGRESOS_HOG':  ['mean', cv]})"
   ]
  },
  {
   "cell_type": "code",
   "execution_count": null,
   "metadata": {},
   "outputs": [],
   "source": [
    "#df.groupby(['ESTRATO_VIV']).agg({\"Amount\": [(\"Sum\", \"sum\"), (\"Count\", \"count\")]})\n",
    "data.groupby('ESTRATO_VIV').agg({'INGRESOS_PER_CAPITA': [('Promedio', 'mean'), ('CV', cv)], 'INGRESOS_HOG':[('Promedio', 'mean'), ('CV', cv)]})"
   ]
  },
  {
   "cell_type": "markdown",
   "metadata": {},
   "source": [
    "Calcular promedio y mediana del ingreso y del ingreso percapita:"
   ]
  },
  {
   "cell_type": "code",
   "execution_count": null,
   "metadata": {},
   "outputs": [],
   "source": [
    "consulta = data.groupby('ESTRATO_VIV').agg({ \n",
    "    'DIRECTORIO_HOG':'size',\n",
    "    'INGRESOS_HOG':['mean','median'],\n",
    "    'INGRESOS_PER_CAPITA':['mean','median']\n",
    "})"
   ]
  },
  {
   "cell_type": "code",
   "execution_count": null,
   "metadata": {},
   "outputs": [],
   "source": [
    "consulta"
   ]
  },
  {
   "cell_type": "code",
   "execution_count": null,
   "metadata": {},
   "outputs": [],
   "source": [
    "consulta.columns"
   ]
  },
  {
   "cell_type": "code",
   "execution_count": null,
   "metadata": {},
   "outputs": [],
   "source": [
    "consulta.columns = list(map(''.join, consulta.columns.values))\n",
    "consulta"
   ]
  },
  {
   "cell_type": "code",
   "execution_count": null,
   "metadata": {},
   "outputs": [],
   "source": [
    "consulta.columns "
   ]
  }
 ],
 "metadata": {
  "kernelspec": {
   "display_name": "Python 3",
   "language": "python",
   "name": "python3"
  },
  "language_info": {
   "codemirror_mode": {
    "name": "ipython",
    "version": 3
   },
   "file_extension": ".py",
   "mimetype": "text/x-python",
   "name": "python",
   "nbconvert_exporter": "python",
   "pygments_lexer": "ipython3",
   "version": "3.7.3"
  }
 },
 "nbformat": 4,
 "nbformat_minor": 2
}
